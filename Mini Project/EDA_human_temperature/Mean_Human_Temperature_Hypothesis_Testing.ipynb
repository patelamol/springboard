{
 "cells": [
  {
   "cell_type": "markdown",
   "metadata": {},
   "source": [
    "# What is the True Normal Human Body Temperature? \n",
    "\n",
    "#### Background\n",
    "\n",
    "The mean normal body temperature was held to be 37$^{\\circ}$C or 98.6$^{\\circ}$F for more than 120 years since it was first conceptualized and reported by Carl Wunderlich in a famous 1868 book. But, is this value statistically correct?"
   ]
  },
  {
   "cell_type": "markdown",
   "metadata": {},
   "source": [
    "<h3>Exercises</h3>\n",
    "\n",
    "<p>In this exercise, you will analyze a dataset of human body temperatures and employ the concepts of hypothesis testing, confidence intervals, and statistical significance.</p>\n",
    "\n",
    "<p>Answer the following questions <b>in this notebook below and submit to your Github account</b>.</p> \n",
    "\n",
    "<ol>\n",
    "<li>  Is the distribution of body temperatures normal? \n",
    "    <ul>\n",
    "    <li> Although this is not a requirement for the Central Limit Theorem to hold (read the introduction on Wikipedia's page about the CLT carefully: https://en.wikipedia.org/wiki/Central_limit_theorem), it gives us some peace of mind that the population may also be normally distributed if we assume that this sample is representative of the population.\n",
    "    <li> Think about the way you're going to check for the normality of the distribution. Graphical methods are usually used first, but there are also other ways: https://en.wikipedia.org/wiki/Normality_test\n",
    "    </ul>\n",
    "<li>  Is the sample size large? Are the observations independent?\n",
    "    <ul>\n",
    "    <li> Remember that this is a condition for the Central Limit Theorem, and hence the statistical tests we are using, to apply.\n",
    "    </ul>\n",
    "<li>  Is the true population mean really 98.6 degrees F?\n",
    "    <ul>\n",
    "    <li> First, try a bootstrap hypothesis test.\n",
    "    <li> Now, let's try frequentist statistical testing. Would you use a one-sample or two-sample test? Why?\n",
    "    <li> In this situation, is it appropriate to use the $t$ or $z$ statistic? \n",
    "    <li> Now try using the other test. How is the result be different? Why?\n",
    "    </ul>\n",
    "<li>  Draw a small sample of size 10 from the data and repeat both frequentist tests. \n",
    "    <ul>\n",
    "    <li> Which one is the correct one to use? \n",
    "    <li> What do you notice? What does this tell you about the difference in application of the $t$ and $z$ statistic?\n",
    "    </ul>\n",
    "<li>  At what temperature should we consider someone's temperature to be \"abnormal\"?\n",
    "    <ul>\n",
    "    <li> As in the previous example, try calculating everything using the boostrap approach, as well as the frequentist approach.\n",
    "    <li> Start by computing the margin of error and confidence interval. When calculating the confidence interval, keep in mind that you should use the appropriate formula for one draw, and not N draws.\n",
    "    </ul>\n",
    "<li>  Is there a significant difference between males and females in normal temperature?\n",
    "    <ul>\n",
    "    <li> What testing approach did you use and why?\n",
    "    <li> Write a story with your conclusion in the context of the original problem.\n",
    "    </ul>\n",
    "</ol>\n",
    "\n",
    "You can include written notes in notebook cells using Markdown: \n",
    "   - In the control panel at the top, choose Cell > Cell Type > Markdown\n",
    "   - Markdown syntax: http://nestacms.com/docs/creating-content/markdown-cheat-sheet\n",
    "\n",
    "#### Resources\n",
    "\n",
    "+ Information and data sources: http://www.amstat.org/publications/jse/datasets/normtemp.txt, http://www.amstat.org/publications/jse/jse_data_archive.htm\n",
    "+ Markdown syntax: http://nestacms.com/docs/creating-content/markdown-cheat-sheet\n",
    "\n",
    "****"
   ]
  },
  {
   "cell_type": "code",
   "execution_count": 1,
   "metadata": {},
   "outputs": [],
   "source": [
    "import pandas as pd\n",
    "import matplotlib.pyplot as plt\n",
    "import seaborn as sns\n",
    "import numpy as np\n",
    "import scipy.stats as stats\n",
    "from __future__ import print_function\n",
    "\n",
    "df = pd.read_csv('data/human_body_temperature.csv')\n",
    "temperature_data = df['temperature']\n",
    "poulation_mean = 98.6\n",
    "male_body_temp = df[df.gender=='M']['temperature']\n",
    "female_body_temp = df[df.gender=='F']['temperature']"
   ]
  },
  {
   "cell_type": "code",
   "execution_count": 8,
   "metadata": {},
   "outputs": [
    {
     "name": "stdout",
     "output_type": "stream",
     "text": [
      "<class 'pandas.core.frame.DataFrame'>\n",
      "RangeIndex: 130 entries, 0 to 129\n",
      "Data columns (total 3 columns):\n",
      "temperature    130 non-null float64\n",
      "gender         130 non-null object\n",
      "heart_rate     130 non-null float64\n",
      "dtypes: float64(2), object(1)\n",
      "memory usage: 3.1+ KB\n",
      "None\n",
      "--------------------------------------------------\n",
      "   temperature gender  heart_rate\n",
      "0         99.3      F        68.0\n",
      "1         98.4      F        81.0\n",
      "2         97.8      M        73.0\n",
      "3         99.2      F        66.0\n",
      "4         98.0      F        73.0\n"
     ]
    }
   ],
   "source": [
    "print(df.info())\n",
    "print('-'*50)\n",
    "print(df.head())"
   ]
  },
  {
   "cell_type": "markdown",
   "metadata": {},
   "source": [
    "#### 1. Is the distribution of body temperatures normal?\n",
    " 1. Graphically Test: Based on the distribution below the distribution appears to be roughly normal."
   ]
  },
  {
   "cell_type": "code",
   "execution_count": 29,
   "metadata": {},
   "outputs": [
    {
     "data": {
      "image/png": "[encoded data removed]",
      "text/plain": [
       "<Figure size 432x288 with 1 Axes>"
      ]
     },
     "metadata": {
      "needs_background": "light"
     },
     "output_type": "display_data"
    }
   ],
   "source": [
    "sns.distplot(df['temperature'])\n",
    "plt.show()"
   ]
  },
  {
   "cell_type": "markdown",
   "metadata": {},
   "source": [
    "2. The following function test the null hypothesis that a sample comes from a normal distribution. It resturns chi-sqaured value with associated p-value. Assuming a aplha or significance level of 0.05 (5%). So if the if the function returns a p value below this which means the null hypothesis is not true making the distribution not normal.\n",
    "\n",
    "But since the p-value is (0.259 or 25.9%) way above the significance value of 0.05, we can say the distribution is normal."
   ]
  },
  {
   "cell_type": "code",
   "execution_count": 28,
   "metadata": {},
   "outputs": [
    {
     "data": {
      "text/plain": [
       "NormaltestResult(statistic=2.703801433319203, pvalue=0.2587479863488254)"
      ]
     },
     "execution_count": 28,
     "metadata": {},
     "output_type": "execute_result"
    }
   ],
   "source": [
    "stats.normaltest(df['temperature'])"
   ]
  },
  {
   "cell_type": "markdown",
   "metadata": {},
   "source": [
    "#### 2. Is the sample size large? Are the observations independent?"
   ]
  },
  {
   "cell_type": "markdown",
   "metadata": {},
   "source": [
    "According to Central Limit Theorem if the sample size is large enough (generally n>=30) the distribution is normal. Since the distribution is normal the sample size of 130 is large enough for consideration."
   ]
  },
  {
   "cell_type": "markdown",
   "metadata": {},
   "source": [
    "#### 3. Is the true population mean really 98.6 degrees F?\n",
    "\n",
    "Bootstrap hypothesis test<br>\n",
    "Null hypothesis: The mean is 98.6<br>\n",
    "Alternative hypothesis: The mean is not 98.6<br>\n",
    "Setting signifiance value of 0.05 (5%)<br>\n",
    "\n",
    "So the test statistic is the mean of the dataset.\n",
    "The bootstrap hypothesis testing shows that it is less likely that the true mean of Human Body temp is atleast 98.6F extreme."
   ]
  },
  {
   "cell_type": "code",
   "execution_count": 14,
   "metadata": {},
   "outputs": [
    {
     "name": "stdout",
     "output_type": "stream",
     "text": [
      "The true mean of Human body temperature is not 98.6F: True\n"
     ]
    }
   ],
   "source": [
    "#generate bootstraped replicate of premutated set.\n",
    "def boostrap_replicates(data, func, number_samples, sample_size):\n",
    "    \n",
    "    sample = np.empty(number_samples, dtype=list)\n",
    "    bs_replicates = np.empty(number_samples)\n",
    "    \n",
    "    for i in range(number_samples):\n",
    "        sample[i] = np.random.choice(data, size=sample_size)\n",
    "        bs_replicates[i] = func(sample[i])\n",
    "    return bs_replicates\n",
    "\n",
    "bs_mean_temp = boostrap_replicates(temperature_data, np.mean, number_samples=100000, sample_size=len(temperature_data))\n",
    "print('The true mean of Human body temperature is not 98.6F:', (np.sum(bs_mean_temp>=poulation_mean)/len(bs_mean_temp))<0.05)"
   ]
  },
  {
   "cell_type": "markdown",
   "metadata": {},
   "source": [
    "#### Would you use a one-sample or two-sample test? Why?\n",
    "Since the temperature data right is a single dataset (when not differetiating between male and female) and comparing the results with a single value, this is a one sample test."
   ]
  },
  {
   "cell_type": "markdown",
   "metadata": {},
   "source": [
    "#### In this situation, is it appropriate to use the  t  or  z  statistic?\n",
    "Since the population parameter of mean body temperature (98.6F) is available and the sample size is greater than 30, we can use z statistics. If population parameter was not given that it becomes different to get accurate sample parameter which is dependent on population parameter."
   ]
  },
  {
   "cell_type": "markdown",
   "metadata": {},
   "source": [
    "#### Now try using the other test. How is the result be different? Why?\n",
    "The formula for t statistics would be\n",
    "\n",
    "t=(m−μ)/(s/√n)<br>\n",
    "\n",
    "Where <br>\n",
    "μ: Population mean, in this case 98.6<br>\n",
    "m: sample mean, in this case mean of temperature_data.<br>\n",
    "s: standard deviation of sample, in this case standard deivation of temperature_data.<br>\n",
    "\n",
    "Given the calculated t above, we can get critical t value for degree of freedom of 129 (n-1) and a significance value of 0.05. We get a t critical value of 1.962. So if the absolute calculated value of t is greater critical value of t, then the different is sigficant between True Mean and population mean of (98.6). \n"
   ]
  },
  {
   "cell_type": "code",
   "execution_count": 18,
   "metadata": {},
   "outputs": [
    {
     "data": {
      "text/plain": [
       "Ttest_1sampResult(statistic=-5.4548232923645195, pvalue=2.4106320415561276e-07)"
      ]
     },
     "execution_count": 18,
     "metadata": {},
     "output_type": "execute_result"
    }
   ],
   "source": [
    "# The below function from scipy package calcualates the null hypothesis of sample mean from the given data set / array \n",
    "# being equal to provided population mean.\n",
    "# As seen from the results below the p value is very small and the abs t value is larger then critical t value, \n",
    "# so we should reject the null hypothesis. \n",
    "# Meaning the true mean of the sample data set may not be equal to 98.6F.\n",
    "\n",
    "stats.ttest_1samp(temperature_data, popmean=98.6)"
   ]
  },
  {
   "cell_type": "markdown",
   "metadata": {},
   "source": [
    "#### 4. Draw a small sample of size 10 from the data and repeat both frequentist tests.\n",
    "We know from central limit theorom that a sample size of less 30 doesn't really gaurentee a normal distribution. And thus z statistics is less accurate in this case, but t statistics can be used.\n",
    "As can be seen from the p values of the z and t statistics, there is different of 0.034."
   ]
  },
  {
   "cell_type": "code",
   "execution_count": 22,
   "metadata": {},
   "outputs": [
    {
     "name": "stdout",
     "output_type": "stream",
     "text": [
      "The true mean of Human body temperature is not 98.6F: True\n",
      "The p value in this case of s-statistics is 0\n",
      "Using t statistics the calculated t is -0.805325551546 and p value is 0.441387959981\n"
     ]
    }
   ],
   "source": [
    "# One sample test with sample size of 10.\n",
    "small_sample = np.random.choice(temperature_data, size=10)\n",
    "\n",
    "# Z statistics\n",
    "print('The true mean of Human body temperature is not 98.6F:', (np.sum(small_sample>=poulation_mean)/len(small_sample))<0.05)\n",
    "print('The p value in this case of s-statistics is {p}'.format(p=np.sum(small_sample>=poulation_mean)/len(small_sample)))\n",
    "\n",
    "# t statistics\n",
    "t, p = ttest_1samp(small_sample, popmean=98.6)\n",
    "print('Using t statistics the calculated t is {t} and p value is {p}'.format(t=t, p=p))"
   ]
  },
  {
   "cell_type": "markdown",
   "metadata": {},
   "source": [
    "#### 5. At what temperature should we consider someone's temperature to be \"abnormal\"?\n",
    "For a one draw sample we assume the standard deviation (std) of the sample is the best estimate we have for the population std. And this will be our margin of error.<br>\n",
    "While the confidence interval is the interval around the sample mean where we are reasonably confident that the population mean (true mean) will be included.<br>\n",
    "\n",
    "So, the formula for z confidence interval is<br>\n",
    "x ± z(σ/√n)<br>\n",
    "Where,<br>\n",
    "x is the sample mean.<br>\n",
    "z is crtical value of z.<br>\n",
    "σ is population mean.<br>\n",
    "n is the size of the sample, 130 in this case.<br>\n",
    "\n",
    "While t confidence interval is<br>\n",
    "x ± t(σ/√n)<br>\n",
    "Where,<br>\n",
    "x is the sample mean.<br>\n",
    "t is crtical value of z.<br>\n",
    "s standard error.<br>\n",
    "n is the size of the sample, 130 in this case."
   ]
  },
  {
   "cell_type": "code",
   "execution_count": 35,
   "metadata": {},
   "outputs": [
    {
     "name": "stdout",
     "output_type": "stream",
     "text": [
      "margin of error is  0.730357778905\n",
      "Confidence interval with z statistics is  (98.123682111456645, 98.37477942700491)\n",
      "Confidence interval with t statistics is  (98.12249318821641, 98.375968350245145)\n"
     ]
    }
   ],
   "source": [
    "std = np.std(temperature_data)\n",
    "mean = np.mean(temperature_data)\n",
    "n = len(temperature_data)\n",
    "print('margin of error is ',std)\n",
    "\n",
    "#for z statistics the interval is\n",
    "print('Confidence interval with z statistics is ',stats.norm.interval(0.95,loc=mean,scale=std/np.sqrt(n)))\n",
    "\n",
    "# t statistics the interval is \n",
    "print('Confidence interval with t statistics is ',stats.t.interval(0.95,n-1,loc=mean,scale=std/np.sqrt(n)))"
   ]
  },
  {
   "cell_type": "markdown",
   "metadata": {},
   "source": [
    "#### 6. Is there a significant difference between males and females in normal temperature?\n",
    "Since we are interested in difference between males and feamales normal body temperature, lets take a mean difference between them."
   ]
  },
  {
   "cell_type": "code",
   "execution_count": 12,
   "metadata": {},
   "outputs": [
    {
     "name": "stdout",
     "output_type": "stream",
     "text": [
      "The difference between mean female and male normal body temperature is  0.289230769231\n"
     ]
    }
   ],
   "source": [
    "diff_mean = np.mean(female_body_temp)-np.mean(male_body_temp)\n",
    "print('The difference between mean female and male normal body temperature is ', diff_mean)"
   ]
  },
  {
   "cell_type": "markdown",
   "metadata": {},
   "source": [
    "Looks like there is a difference between the means of both male and female normal body temperature in this data set. But is there really a difference between them or just the variation in this dataset. <br>\n",
    "To test if there is really a difference between thier means, we do a hypothesis testing assuming there is no difference.<br>\n",
    "Hence,<br>\n",
    "<b>Null Hypothesis</b>: There is no difference between female and male normal body temperature.<br>\n",
    "<b>Alternative Hypothesis</b>: There is a difference between them.<br>\n",
    "<b>significance value</b>: 0.05"
   ]
  },
  {
   "cell_type": "code",
   "execution_count": 25,
   "metadata": {},
   "outputs": [
    {
     "name": "stdout",
     "output_type": "stream",
     "text": [
      "Using z statistics, the p value for this hypothesis is  0\n"
     ]
    }
   ],
   "source": [
    "#To build a set with same mean for both set we will make both the means same.\n",
    "shifted_female_temp = female_body_temp - np.mean(female_body_temp) + np.mean(temperature_data)\n",
    "shifted_male_temp = male_body_temp - np.mean(male_body_temp) + np.mean(temperature_data)\n",
    "\n",
    "#generate bootstrap replicates.\n",
    "bs_replicate_female=boostrap_replicates(shifted_female_temp, np.mean, 10000, len(shifted_female_temp))\n",
    "bs_replicate_male=boostrap_replicates(shifted_male_temp, np.mean, 10000, len(shifted_male_temp))\n",
    "\n",
    "#replicate difference of the mean\n",
    "bs_diff_mean = bs_replicate_female-bs_replicate_male\n",
    "\n",
    "#Using z statistics, since we have large enough sample and the original distribution is normal.\n",
    "p=sum(bs_diff_mean>=diff_mean)/len(bs_diff_mean)\n",
    "print('Using z statistics, the p value for this hypothesis is ',p)"
   ]
  },
  {
   "cell_type": "markdown",
   "metadata": {},
   "source": [
    "The p value of zero indicates there is little to no possibility of having that extreme of a value while having same mean. Hence we reject the null hypothesis, that there is no difference between male and female normal body temperature."
   ]
  }
 ],
 "metadata": {
  "anaconda-cloud": {},
  "kernelspec": {
   "display_name": "Python 2",
   "language": "python",
   "name": "python2"
  },
  "language_info": {
   "codemirror_mode": {
    "name": "ipython",
    "version": 2
   },
   "file_extension": ".py",
   "mimetype": "text/x-python",
   "name": "python",
   "nbconvert_exporter": "python",
   "pygments_lexer": "ipython2",
   "version": "2.7.15"
  }
 },
 "nbformat": 4,
 "nbformat_minor": 1
}
