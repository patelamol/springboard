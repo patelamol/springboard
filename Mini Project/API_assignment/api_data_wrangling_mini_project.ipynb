{
 "cells": [
  {
   "cell_type": "markdown",
   "metadata": {},
   "source": [
    "This exercise will require you to pull some data from the Qunadl API. Qaundl is currently the most widely used aggregator of financial market data."
   ]
  },
  {
   "cell_type": "markdown",
   "metadata": {},
   "source": [
    "As a first step, you will need to register a free account on the http://www.quandl.com website."
   ]
  },
  {
   "cell_type": "markdown",
   "metadata": {},
   "source": [
    "After you register, you will be provided with a unique API key, that you should store:"
   ]
  },
  {
   "cell_type": "code",
   "execution_count": 1,
   "metadata": {},
   "outputs": [],
   "source": [
    "# Store the API key as a string - according to PEP8, constants are always named in all upper case\n",
    "API_KEY = 'XXXX'"
   ]
  },
  {
   "cell_type": "markdown",
   "metadata": {},
   "source": [
    "Qaundl has a large number of data sources, but, unfortunately, most of them require a Premium subscription. Still, there are also a good number of free datasets."
   ]
  },
  {
   "cell_type": "markdown",
   "metadata": {},
   "source": [
    "For this mini project, we will focus on equities data from the Frankfurt Stock Exhange (FSE), which is available for free. We'll try and analyze the stock prices of a company called Carl Zeiss Meditec, which manufactures tools for eye examinations, as well as medical lasers for laser eye surgery: https://www.zeiss.com/meditec/int/home.html. The company is listed under the stock ticker AFX_X."
   ]
  },
  {
   "cell_type": "markdown",
   "metadata": {},
   "source": [
    "You can find the detailed Quandl API instructions here: https://docs.quandl.com/docs/time-series"
   ]
  },
  {
   "cell_type": "markdown",
   "metadata": {},
   "source": [
    "While there is a dedicated Python package for connecting to the Quandl API, we would prefer that you use the *requests* package, which can be easily downloaded using *pip* or *conda*. You can find the documentation for the package here: http://docs.python-requests.org/en/master/ "
   ]
  },
  {
   "cell_type": "markdown",
   "metadata": {},
   "source": [
    "Finally, apart from the *requests* package, you are encouraged to not use any third party Python packages, such as *pandas*, and instead focus on what's available in the Python Standard Library (the *collections* module might come in handy: https://pymotw.com/3/collections/).\n",
    "Also, since you won't have access to DataFrames, you are encouraged to us Python's native data structures - preferably dictionaries, though some questions can also be answered using lists.\n",
    "You can read more on these data structures here: https://docs.python.org/3/tutorial/datastructures.html"
   ]
  },
  {
   "cell_type": "markdown",
   "metadata": {},
   "source": [
    "Keep in mind that the JSON responses you will be getting from the API map almost one-to-one to Python's dictionaries. Unfortunately, they can be very nested, so make sure you read up on indexing dictionaries in the documentation provided above."
   ]
  },
  {
   "cell_type": "code",
   "execution_count": 2,
   "metadata": {},
   "outputs": [],
   "source": [
    "# First, import the relevant modules\n",
    "import requests\n",
    "import collections\n",
    "from datetime import datetime"
   ]
  },
  {
   "cell_type": "code",
   "execution_count": 3,
   "metadata": {},
   "outputs": [],
   "source": [
    "# Now, call the Quandl API and pull out a small sample of the data (only one day) to get a glimpse\n",
    "# into the JSON structure that will be returned\n",
    "r1 = requests.get('https://www.quandl.com/api/v3/datasets/FSE/AFX_X.json?column_index=4&start_date=2019-01-08&end_date=2019-01-08&api_key=GvyjkcCS7KPMeNmsvaZc')"
   ]
  },
  {
   "cell_type": "code",
   "execution_count": 4,
   "metadata": {},
   "outputs": [
    {
     "data": {
      "text/plain": [
       "{u'dataset': {u'collapse': None,\n",
       "  u'column_index': 4,\n",
       "  u'column_names': [u'Date', u'Close'],\n",
       "  u'data': [[u'2019-01-08', 74.2]],\n",
       "  u'database_code': u'FSE',\n",
       "  u'database_id': 6129,\n",
       "  u'dataset_code': u'AFX_X',\n",
       "  u'description': u'Stock Prices for Carl Zeiss Meditec (AFX) from the Frankfurt Stock Exchange.<br><br>Trading System: Xetra<br><br>ISIN: DE0005313704',\n",
       "  u'end_date': u'2019-01-08',\n",
       "  u'frequency': u'daily',\n",
       "  u'id': 10095370,\n",
       "  u'limit': None,\n",
       "  u'name': u'Carl Zeiss Meditec (AFX_X)',\n",
       "  u'newest_available_date': u'2019-01-11',\n",
       "  u'oldest_available_date': u'2000-06-07',\n",
       "  u'order': None,\n",
       "  u'premium': False,\n",
       "  u'refreshed_at': u'2019-01-11T22:32:45.336Z',\n",
       "  u'start_date': u'2019-01-08',\n",
       "  u'transform': None,\n",
       "  u'type': u'Time Series'}}"
      ]
     },
     "execution_count": 4,
     "metadata": {},
     "output_type": "execute_result"
    }
   ],
   "source": [
    "# Inspect the JSON structure of the object you created, and take note of how nested it is,\n",
    "# as well as the overall structure\n",
    "r1.json()"
   ]
  },
  {
   "cell_type": "markdown",
   "metadata": {},
   "source": [
    "These are your tasks for this mini project:\n",
    "\n",
    "1. Collect data from the Franfurt Stock Exchange, for the ticker AFX_X, for the whole year 2017 (keep in mind that the date format is YYYY-MM-DD).\n",
    "2. Convert the returned JSON object into a Python dictionary.\n",
    "3. Calculate what the highest and lowest opening prices were for the stock in this period.\n",
    "4. What was the largest change in any one day (based on High and Low price)?\n",
    "5. What was the largest change between any two days (based on Closing Price)?\n",
    "6. What was the average daily trading volume during this year?\n",
    "7. (Optional) What was the median trading volume during this year. (Note: you may need to implement your own function for calculating the median.)"
   ]
  },
  {
   "cell_type": "markdown",
   "metadata": {
    "collapsed": true
   },
   "source": [
    "### 1. Collect data from the Franfurt Stock Exchange, for the ticker AFX_X, for the whole year 2017 (keep in mind that the date format is YYYY-MM-DD)."
   ]
  },
  {
   "cell_type": "code",
   "execution_count": 5,
   "metadata": {},
   "outputs": [
    {
     "data": {
      "text/plain": [
       "[u'Date',\n",
       " u'Open',\n",
       " u'High',\n",
       " u'Low',\n",
       " u'Close',\n",
       " u'Change',\n",
       " u'Traded Volume',\n",
       " u'Turnover',\n",
       " u'Last Price of the Day',\n",
       " u'Daily Traded Units',\n",
       " u'Daily Turnover']"
      ]
     },
     "execution_count": 5,
     "metadata": {},
     "output_type": "execute_result"
    }
   ],
   "source": [
    "r2 = requests.get('https://www.quandl.com/api/v3/datasets/FSE/AFX_X.json?start_date=2017-01-01&end_date=2017-12-31&order=asc&api_key=GvyjkcCS7KPMeNmsvaZc')\n",
    "r2.json()['dataset']['column_names']"
   ]
  },
  {
   "cell_type": "markdown",
   "metadata": {},
   "source": [
    "### 2. Convert the returned JSON object into a Python dictionary.\n",
    "Creating a dictonary where every date is a key with all the different prices as values in a list. The order of these prices would be same as above printed columns."
   ]
  },
  {
   "cell_type": "code",
   "execution_count": 6,
   "metadata": {},
   "outputs": [
    {
     "data": {
      "text/plain": [
       "collections.OrderedDict"
      ]
     },
     "execution_count": 6,
     "metadata": {},
     "output_type": "execute_result"
    }
   ],
   "source": [
    "AFX_X_dict = collections.OrderedDict()\n",
    "for x in r2.json()['dataset']['data']:\n",
    "    AFX_X_dict[datetime.strptime(x[0] , '%Y-%m-%d')]= x[1:]\n",
    "type(AFX_X_dict)"
   ]
  },
  {
   "cell_type": "markdown",
   "metadata": {},
   "source": [
    "### 3. Calculate what the highest and lowest opening prices were for the stock in this period.\n",
    "From the column list above the first value in the list of every key should be the opening price.\n",
    "\n",
    "Note: Some of the values in opening prices are not available or are nulls. Since opening values can't be sustiuted by statistical or any previous or next day values, we will be filtering those values out."
   ]
  },
  {
   "cell_type": "code",
   "execution_count": 7,
   "metadata": {},
   "outputs": [
    {
     "name": "stdout",
     "output_type": "stream",
     "text": [
      "Highest opening price: 53.11\n",
      "Lowest opening price: 34.0\n"
     ]
    }
   ],
   "source": [
    "opening_prices = []\n",
    "for key, val in AFX_X_dict.iteritems():\n",
    "#Filtering out nulls or None  \n",
    "    if val[0]!=None:\n",
    "            opening_prices.append(val[0])\n",
    "print('Highest opening price: {}'.format(max(opening_prices)))\n",
    "print('Lowest opening price: {}'.format(min(opening_prices)))"
   ]
  },
  {
   "cell_type": "markdown",
   "metadata": {},
   "source": [
    "### 4. What was the largest change in any one day (based on High and Low price)?\n",
    "Since all the change columns are empty or null, we will have to calculate them seprately. The highest and lowest values are at second and thirst position respectively.\n",
    "\n",
    "Note: The highs and lows don't seem to have any nulls, hence no action is required."
   ]
  },
  {
   "cell_type": "code",
   "execution_count": 8,
   "metadata": {},
   "outputs": [
    {
     "name": "stdout",
     "output_type": "stream",
     "text": [
      "Largest change in a day is of 2.81\n"
     ]
    }
   ],
   "source": [
    "daily_change = []\n",
    "for key, val in AFX_X_dict.iteritems():\n",
    "#     if  None in (val[1], val[2]):\n",
    "#         print(key)\n",
    "    daily_change.append(val[1]-val[2])\n",
    "print(\"Largest change in a day is of {}\".format(max(daily_change)))"
   ]
  },
  {
   "cell_type": "markdown",
   "metadata": {},
   "source": [
    "### 5. What was the largest change between any two days (based on Closing Price)?\n",
    "Closing price is the 4th element of every day. Finding abolute intra day changes.<br>\n",
    "Making a dicionary iterable helps in getting first value."
   ]
  },
  {
   "cell_type": "code",
   "execution_count": 9,
   "metadata": {},
   "outputs": [
    {
     "name": "stdout",
     "output_type": "stream",
     "text": [
      "The largest price change between two days is 2.56\n"
     ]
    }
   ],
   "source": [
    "intra_day_changes=[]\n",
    "iter_dict = iter(AFX_X_dict)\n",
    "last_key = next(iter_dict)\n",
    "for key in iter_dict:\n",
    "    intra_day_changes.append(abs(AFX_X_dict[key][3]-AFX_X_dict[last_key][3]))\n",
    "    last_key = key\n",
    "print('The largest price change between two days is {}'.format(max(intra_day_changes)))"
   ]
  },
  {
   "cell_type": "markdown",
   "metadata": {},
   "source": [
    "### 6. What was the average daily trading volume during this year?\n",
    "Trading volume is at the 6th element in the list."
   ]
  },
  {
   "cell_type": "code",
   "execution_count": 10,
   "metadata": {},
   "outputs": [
    {
     "name": "stdout",
     "output_type": "stream",
     "text": [
      "Average daily trading volume is 89124.3372549\n"
     ]
    }
   ],
   "source": [
    "daily_tading_volume = []\n",
    "for key, val in AFX_X_dict.iteritems():\n",
    "    daily_tading_volume.append(val[5])\n",
    "print('Average daily trading volume is {}'.format(float(sum(daily_tading_volume))/len(daily_tading_volume)))"
   ]
  },
  {
   "cell_type": "markdown",
   "metadata": {},
   "source": [
    "### 7. (Optional) What was the median trading volume during this year. (Note: you may need to implement your own function for calculating the median.)\n",
    "Using the daily_tading_volume list from above calculating median value."
   ]
  },
  {
   "cell_type": "code",
   "execution_count": 11,
   "metadata": {},
   "outputs": [
    {
     "data": {
      "text/plain": [
       "113275.0"
      ]
     },
     "execution_count": 11,
     "metadata": {},
     "output_type": "execute_result"
    }
   ],
   "source": [
    "def median(arr):\n",
    "    arr= sorted(arr)\n",
    "    l = len(arr)\n",
    "    half_length = l//2\n",
    "    if l<1:\n",
    "        return None\n",
    "    elif l%2==0:\n",
    "        return arr[half_length]\n",
    "    else:\n",
    "        return (arr[half_length-1]+arr[half_length+1]/2)\n",
    "\n",
    "median(daily_tading_volume)    "
   ]
  },
  {
   "cell_type": "code",
   "execution_count": null,
   "metadata": {},
   "outputs": [],
   "source": []
  }
 ],
 "metadata": {
  "kernelspec": {
   "display_name": "Python 2",
   "language": "python",
   "name": "python2"
  },
  "language_info": {
   "codemirror_mode": {
    "name": "ipython",
    "version": 2
   },
   "file_extension": ".py",
   "mimetype": "text/x-python",
   "name": "python",
   "nbconvert_exporter": "python",
   "pygments_lexer": "ipython2",
   "version": "2.7.15"
  }
 },
 "nbformat": 4,
 "nbformat_minor": 2
}
