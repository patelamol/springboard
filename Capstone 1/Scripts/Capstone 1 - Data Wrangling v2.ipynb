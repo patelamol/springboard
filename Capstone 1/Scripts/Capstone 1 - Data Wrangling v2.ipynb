{
 "cells": [
  {
   "cell_type": "markdown",
   "metadata": {},
   "source": [
    "# Capstone 1 Project: Data Wrangling"
   ]
  },
  {
   "cell_type": "markdown",
   "metadata": {},
   "source": [
    "Focus of exploratory data analysis will be;\n",
    "- Missing data (Null values)\n",
    "- Invalid data\n",
    "- Duplicates\n",
    "- Inconsistent column naming\n",
    "- Untidiness\n",
    "- Any further processing of data to make it meaningful\n",
    "- Outliers"
   ]
  },
  {
   "cell_type": "markdown",
   "metadata": {},
   "source": [
    "The crop information is available with variety of different data points but we will focus mainly on Yield and how it is affected by the Arces harvested, climate and labor avalability. \n",
    "<p><b>Acres Harvested</b>: Total strech of land from which the crop is harvested measured in arces. Where 1 acres is 43560 sq. ft.</p>\n",
    "<p><b>Production</b>: The total amount of crop produce by weight measured in Bushel (imperical unit).<p>\n",
    "<p><b>Yield</b>: Yield is the output of the land per acres, so it is production per acres (Production/Acres Harvested)</p>"
   ]
  },
  {
   "cell_type": "markdown",
   "metadata": {},
   "source": [
    "## Importing data"
   ]
  },
  {
   "cell_type": "code",
   "execution_count": 2,
   "metadata": {},
   "outputs": [],
   "source": [
    "import pandas as pd\n",
    "import numpy as np\n",
    "import re\n",
    "import matplotlib.pyplot as plt\n",
    "from __future__ import print_function"
   ]
  },
  {
   "cell_type": "code",
   "execution_count": 3,
   "metadata": {
    "scrolled": true
   },
   "outputs": [],
   "source": [
    "data_file = 'Data/USDA_Data_v2.0.xlsx'\n",
    "data_xl_sheets = pd.ExcelFile(data_file).sheet_names\n",
    "corn_df = pd.read_excel(data_file, sheet_name='Corn')[['Year','State','County','Data Item', 'Value']]\n",
    "barley_df = pd.read_excel(data_file, sheet_name='Barley')[['Year','State','County','Data Item','Value']]\n",
    "peanuts_df = pd.read_excel(data_file, sheet_name='Peanuts')[['Year','State','County','Data Item','Value']]\n",
    "soybean_df = pd.read_excel(data_file, sheet_name='Soybean')[['Year','State','County','Data Item','Value']]\n",
    "price_df = pd.read_excel(data_file, sheet_name='Price Received')[['Year','State','Commodity','Value']]\n",
    "# #importing unemployment rate\n",
    "# unemployment_df = pd.read_excel(data_file, sheet_name='US UnemploymentRate')\n",
    "# #setting case to upper, easier to merge with rest of the data.\n",
    "# unemployment_df['State']=unemployment_df['State'].str.upper()"
   ]
  },
  {
   "cell_type": "markdown",
   "metadata": {},
   "source": [
    "Even though the data we got downloaded from USDA website was as County level, it still seem to have another level of detail in it. After checking the raw data the level below County is 'Ag District'. We can ignore the column but expect duplicate rows for each County for a Year. This needs to be aggregated to County level."
   ]
  },
  {
   "cell_type": "code",
   "execution_count": 4,
   "metadata": {
    "scrolled": true
   },
   "outputs": [
    {
     "data": {
      "text/html": [
       "<div>\n",
       "<style scoped>\n",
       "    .dataframe tbody tr th:only-of-type {\n",
       "        vertical-align: middle;\n",
       "    }\n",
       "\n",
       "    .dataframe tbody tr th {\n",
       "        vertical-align: top;\n",
       "    }\n",
       "\n",
       "    .dataframe thead th {\n",
       "        text-align: right;\n",
       "    }\n",
       "</style>\n",
       "<table border=\"1\" class=\"dataframe\">\n",
       "  <thead>\n",
       "    <tr style=\"text-align: right;\">\n",
       "      <th></th>\n",
       "      <th>Year</th>\n",
       "      <th>State</th>\n",
       "      <th>County</th>\n",
       "      <th>Data Item</th>\n",
       "      <th>Value</th>\n",
       "    </tr>\n",
       "  </thead>\n",
       "  <tbody>\n",
       "    <tr>\n",
       "      <th>203655</th>\n",
       "      <td>1984</td>\n",
       "      <td>ALABAMA</td>\n",
       "      <td>OTHER (COMBINED) COUNTIES</td>\n",
       "      <td>CORN, GRAIN - ACRES HARVESTED</td>\n",
       "      <td>1500.0</td>\n",
       "    </tr>\n",
       "    <tr>\n",
       "      <th>203781</th>\n",
       "      <td>1984</td>\n",
       "      <td>ALABAMA</td>\n",
       "      <td>OTHER (COMBINED) COUNTIES</td>\n",
       "      <td>CORN, GRAIN - ACRES HARVESTED</td>\n",
       "      <td>900.0</td>\n",
       "    </tr>\n",
       "    <tr>\n",
       "      <th>203656</th>\n",
       "      <td>1984</td>\n",
       "      <td>ALABAMA</td>\n",
       "      <td>OTHER (COMBINED) COUNTIES</td>\n",
       "      <td>CORN, GRAIN - PRODUCTION, MEASURED IN BU</td>\n",
       "      <td>75000.0</td>\n",
       "    </tr>\n",
       "    <tr>\n",
       "      <th>203782</th>\n",
       "      <td>1984</td>\n",
       "      <td>ALABAMA</td>\n",
       "      <td>OTHER (COMBINED) COUNTIES</td>\n",
       "      <td>CORN, GRAIN - PRODUCTION, MEASURED IN BU</td>\n",
       "      <td>35000.0</td>\n",
       "    </tr>\n",
       "    <tr>\n",
       "      <th>203657</th>\n",
       "      <td>1984</td>\n",
       "      <td>ALABAMA</td>\n",
       "      <td>OTHER (COMBINED) COUNTIES</td>\n",
       "      <td>CORN, GRAIN - YIELD, MEASURED IN BU / ACRE</td>\n",
       "      <td>50.0</td>\n",
       "    </tr>\n",
       "  </tbody>\n",
       "</table>\n",
       "</div>"
      ],
      "text/plain": [
       "        Year    State                     County  \\\n",
       "203655  1984  ALABAMA  OTHER (COMBINED) COUNTIES   \n",
       "203781  1984  ALABAMA  OTHER (COMBINED) COUNTIES   \n",
       "203656  1984  ALABAMA  OTHER (COMBINED) COUNTIES   \n",
       "203782  1984  ALABAMA  OTHER (COMBINED) COUNTIES   \n",
       "203657  1984  ALABAMA  OTHER (COMBINED) COUNTIES   \n",
       "\n",
       "                                         Data Item    Value  \n",
       "203655               CORN, GRAIN - ACRES HARVESTED   1500.0  \n",
       "203781               CORN, GRAIN - ACRES HARVESTED    900.0  \n",
       "203656    CORN, GRAIN - PRODUCTION, MEASURED IN BU  75000.0  \n",
       "203782    CORN, GRAIN - PRODUCTION, MEASURED IN BU  35000.0  \n",
       "203657  CORN, GRAIN - YIELD, MEASURED IN BU / ACRE     50.0  "
      ]
     },
     "execution_count": 4,
     "metadata": {},
     "output_type": "execute_result"
    }
   ],
   "source": [
    "corn_df[corn_df.duplicated(['Year','State','County','Data Item'],keep=False)].sort_values(['Year','State','County','Data Item']).head()"
   ]
  },
  {
   "cell_type": "markdown",
   "metadata": {},
   "source": [
    "For most of the crops we have aggregate data but for corn only the most widely produced variety has data about Acres Harvested, Production and Yield. Hence in case of Corn we will be using only the data of grain variety of corn."
   ]
  },
  {
   "cell_type": "code",
   "execution_count": 5,
   "metadata": {},
   "outputs": [
    {
     "data": {
      "text/plain": [
       "array([u'CORN, GRAIN - ACRES HARVESTED',\n",
       "       u'CORN, GRAIN - PRODUCTION, MEASURED IN BU',\n",
       "       u'CORN, GRAIN - YIELD, MEASURED IN BU / ACRE'], dtype=object)"
      ]
     },
     "execution_count": 5,
     "metadata": {},
     "output_type": "execute_result"
    }
   ],
   "source": [
    "corn_df['Data Item'].unique()"
   ]
  },
  {
   "cell_type": "markdown",
   "metadata": {},
   "source": [
    "### Tidy up\n",
    "Now we want to pivot the values in Data Item in thier own columns, so each row represnts only a obervation.\n",
    "\n",
    "But before that we need to shorten up values so that column names are short enough. To do that we do the following,\n",
    "1. Remove some of the redundent information like 'CORN, GRAIN'.\n",
    "2. Certain information from Data Item needs to be cleaned up."
   ]
  },
  {
   "cell_type": "code",
   "execution_count": 6,
   "metadata": {
    "scrolled": true
   },
   "outputs": [
    {
     "name": "stdout",
     "output_type": "stream",
     "text": [
      "   Year    State   County        Data Item     Value\n",
      "0  2017  ALABAMA  AUTAUGA  ACRES HARVESTED     650.0\n",
      "1  2017  ALABAMA  AUTAUGA       PRODUCTION  111000.0\n",
      "2  2017  ALABAMA  AUTAUGA            YIELD     170.8\n",
      "3  2017  ALABAMA  BULLOCK  ACRES HARVESTED     800.0\n",
      "4  2017  ALABAMA  BULLOCK       PRODUCTION  108000.0\n",
      "\n",
      "   Year       State                     County        Data Item     Value\n",
      "0  2018  CALIFORNIA  OTHER (COMBINED) COUNTIES  ACRES HARVESTED    1700.0\n",
      "1  2018  CALIFORNIA  OTHER (COMBINED) COUNTIES       PRODUCTION  100000.0\n",
      "2  2018  CALIFORNIA  OTHER (COMBINED) COUNTIES            YIELD      58.8\n",
      "3  2018  CALIFORNIA            SAN LUIS OBISPO  ACRES HARVESTED    7800.0\n",
      "4  2018  CALIFORNIA            SAN LUIS OBISPO       PRODUCTION  450000.0\n",
      "\n",
      "   Year    State                     County        Data Item    Value\n",
      "0  2017  ALABAMA                     DALLAS  ACRES HARVESTED     1600\n",
      "1  2017  ALABAMA                     DALLAS       PRODUCTION  5500000\n",
      "2  2017  ALABAMA                     DALLAS            YIELD     3438\n",
      "3  2017  ALABAMA  OTHER (COMBINED) COUNTIES  ACRES HARVESTED     1900\n",
      "4  2017  ALABAMA  OTHER (COMBINED) COUNTIES       PRODUCTION  6050000\n",
      "\n",
      "   Year    State  County        Data Item     Value\n",
      "0  2017  ALABAMA  DALLAS  ACRES HARVESTED    6200.0\n",
      "1  2017  ALABAMA  DALLAS       PRODUCTION  268000.0\n",
      "2  2017  ALABAMA  DALLAS            YIELD      43.2\n",
      "3  2017  ALABAMA  ELMORE  ACRES HARVESTED     900.0\n",
      "4  2017  ALABAMA  ELMORE       PRODUCTION   35900.0\n"
     ]
    }
   ],
   "source": [
    "#CORN\n",
    "#Removing any combination of CORN GRAIN and preceding whitespaces\n",
    "corn_df.loc[:,'Data Item'] = (corn_df['Data Item'].str.replace(r'^CORN, GRAIN[\\s,][\\s-]','')).str.replace(r'^\\s','')\n",
    "\n",
    "#Removing anything after comma(,) as it just tells you the unit of the value.\n",
    "corn_df.loc[:,'Data Item'] = corn_df['Data Item'].str.split(',').str[0]\n",
    "\n",
    "#----------------------------------------------------------\n",
    "#BARLEY\n",
    "#Removing 'BARLEY -' and whitespaces\n",
    "barley_df.loc[:,'Data Item'] = (barley_df['Data Item'].str.replace(r'^BARLEY[\\s,][\\s-]','')).str.replace(r'^\\s','')\n",
    "\n",
    "#Removing anything after comma(,) as it just tells you the unit of the value.\n",
    "barley_df.loc[:,'Data Item'] = barley_df['Data Item'].str.split(',').str[0]\n",
    "\n",
    "#----------------------------------------------------------\n",
    "#PEANUTS\n",
    "#Removing 'PEANUTS -' and whitespaces\n",
    "peanuts_df.loc[:,'Data Item'] = (peanuts_df['Data Item'].str.replace(r'^PEANUTS[\\s,][\\s-]','')).str.replace(r'^\\s','')\n",
    "\n",
    "#Removing anything after comma(,) as it just tells you the unit of the value.\n",
    "peanuts_df.loc[:,'Data Item'] = peanuts_df['Data Item'].str.split(',').str[0]\n",
    "\n",
    "#----------------------------------------------------------\n",
    "#SOY BEANS\n",
    "#Removing 'SOYBEANS -' and whitespaces\n",
    "soybean_df.loc[:,'Data Item'] = (soybean_df['Data Item'].str.replace(r'^SOYBEANS[\\s,][\\s-]','')).str.replace(r'^\\s','')\n",
    "\n",
    "#Removing anything after comma(,) as it just tells you the unit of the value.\n",
    "soybean_df.loc[:,'Data Item'] = soybean_df['Data Item'].str.split(',').str[0]\n",
    "\n",
    "print(\"{A}\\n\\n{B}\\n\\n{C}\\n\\n{D}\".format(A=corn_df.head(),B=barley_df.head(),C=peanuts_df.head(),D=soybean_df.head()))"
   ]
  },
  {
   "cell_type": "markdown",
   "metadata": {},
   "source": [
    "Pivoting the 'Data Item' as well as aggregating values at County level."
   ]
  },
  {
   "cell_type": "code",
   "execution_count": 7,
   "metadata": {
    "scrolled": true
   },
   "outputs": [
    {
     "name": "stdout",
     "output_type": "stream",
     "text": [
      "   Year    State   County        Data Item     Value\n",
      "0  2017  ALABAMA  AUTAUGA  ACRES HARVESTED     650.0\n",
      "1  2017  ALABAMA  AUTAUGA       PRODUCTION  111000.0\n",
      "2  2017  ALABAMA  AUTAUGA            YIELD     170.8\n",
      "3  2017  ALABAMA  BULLOCK  ACRES HARVESTED     800.0\n",
      "4  2017  ALABAMA  BULLOCK       PRODUCTION  108000.0\n",
      "\n",
      "   Year       State                     County        Data Item     Value\n",
      "0  2018  CALIFORNIA  OTHER (COMBINED) COUNTIES  ACRES HARVESTED    1700.0\n",
      "1  2018  CALIFORNIA  OTHER (COMBINED) COUNTIES       PRODUCTION  100000.0\n",
      "2  2018  CALIFORNIA  OTHER (COMBINED) COUNTIES            YIELD      58.8\n",
      "3  2018  CALIFORNIA            SAN LUIS OBISPO  ACRES HARVESTED    7800.0\n",
      "4  2018  CALIFORNIA            SAN LUIS OBISPO       PRODUCTION  450000.0\n",
      "\n",
      "   Year    State                     County        Data Item    Value\n",
      "0  2017  ALABAMA                     DALLAS  ACRES HARVESTED     1600\n",
      "1  2017  ALABAMA                     DALLAS       PRODUCTION  5500000\n",
      "2  2017  ALABAMA                     DALLAS            YIELD     3438\n",
      "3  2017  ALABAMA  OTHER (COMBINED) COUNTIES  ACRES HARVESTED     1900\n",
      "4  2017  ALABAMA  OTHER (COMBINED) COUNTIES       PRODUCTION  6050000\n",
      "\n",
      "   Year    State  County        Data Item     Value\n",
      "0  2017  ALABAMA  DALLAS  ACRES HARVESTED    6200.0\n",
      "1  2017  ALABAMA  DALLAS       PRODUCTION  268000.0\n",
      "2  2017  ALABAMA  DALLAS            YIELD      43.2\n",
      "3  2017  ALABAMA  ELMORE  ACRES HARVESTED     900.0\n",
      "4  2017  ALABAMA  ELMORE       PRODUCTION   35900.0\n",
      "\n",
      "   Year    State      CROP  PRICE\n",
      "0  2017  ALABAMA      CORN  4.040\n",
      "1  2017  ALABAMA   PEANUTS  0.221\n",
      "2  2017  ALABAMA  SOYBEANS  9.430\n",
      "3  2017   ALASKA    BARLEY  5.250\n",
      "4  2017   ALASKA      CORN    NaN\n"
     ]
    }
   ],
   "source": [
    "#CORN\n",
    "pivoted_corn_df = corn_df.pivot_table(index=['Year','State','County'], columns='Data Item', values='Value',aggfunc='sum').reset_index()\n",
    "pivoted_corn_df.columns.name=None\n",
    "pivoted_corn_df.loc[:,'CROP']='CORN'\n",
    "\n",
    "#----------------------------------------------------------\n",
    "#BARLEY\n",
    "pivoted_barley_df = barley_df.pivot_table(index=['Year','State','County'], columns='Data Item', values='Value',aggfunc='sum').reset_index()\n",
    "pivoted_barley_df.columns.name=None\n",
    "pivoted_barley_df.loc[:,'CROP']='BARLEY'\n",
    "\n",
    "#----------------------------------------------------------\n",
    "#PEANUTS\n",
    "pivoted_peanuts_df = peanuts_df.pivot_table(index=['Year','State','County'], columns='Data Item', values='Value',aggfunc='sum').reset_index()\n",
    "pivoted_peanuts_df.columns.name=None\n",
    "pivoted_peanuts_df.loc[:,'CROP']='PEANUTS'\n",
    "\n",
    "#----------------------------------------------------------\n",
    "#SOY BEANS\n",
    "pivoted_soybean_df = soybean_df.pivot_table(index=['Year','State','County'], columns='Data Item', values='Value',aggfunc='sum').reset_index()\n",
    "pivoted_soybean_df.columns.name=None\n",
    "pivoted_soybean_df.loc[:,'CROP']='SOYBEANS'\n",
    "\n",
    "#----------------------------------------------------------\n",
    "#PRICE\n",
    "pivoted_price_df=price_df.copy()\n",
    "pivoted_price_df.columns = ['Year','State','CROP','PRICE']\n",
    "#A little clean up\n",
    "pivoted_price_df['PRICE'] = pivoted_price_df['PRICE'].replace(\" (NA)\",np.NaN)\n",
    "\n",
    "print(\"{A}\\n\\n{B}\\n\\n{C}\\n\\n{D}\\n\\n{E}\".format(A=corn_df.head(),B=barley_df.head(),C=peanuts_df.head(),D=soybean_df.head(),E=pivoted_price_df.head()))"
   ]
  },
  {
   "cell_type": "markdown",
   "metadata": {},
   "source": [
    "### Standardizing all values to same unit Production in pounds (lbs) and price in \\$/pound(lb) "
   ]
  },
  {
   "cell_type": "code",
   "execution_count": 8,
   "metadata": {},
   "outputs": [
    {
     "data": {
      "text/html": [
       "<div>\n",
       "<style scoped>\n",
       "    .dataframe tbody tr th:only-of-type {\n",
       "        vertical-align: middle;\n",
       "    }\n",
       "\n",
       "    .dataframe tbody tr th {\n",
       "        vertical-align: top;\n",
       "    }\n",
       "\n",
       "    .dataframe thead th {\n",
       "        text-align: right;\n",
       "    }\n",
       "</style>\n",
       "<table border=\"1\" class=\"dataframe\">\n",
       "  <thead>\n",
       "    <tr style=\"text-align: right;\">\n",
       "      <th></th>\n",
       "      <th>Year</th>\n",
       "      <th>State</th>\n",
       "      <th>CROP</th>\n",
       "      <th>PRICE</th>\n",
       "    </tr>\n",
       "  </thead>\n",
       "  <tbody>\n",
       "    <tr>\n",
       "      <th>0</th>\n",
       "      <td>2017</td>\n",
       "      <td>ALABAMA</td>\n",
       "      <td>CORN</td>\n",
       "      <td>0.072143</td>\n",
       "    </tr>\n",
       "    <tr>\n",
       "      <th>1</th>\n",
       "      <td>2017</td>\n",
       "      <td>ALABAMA</td>\n",
       "      <td>PEANUTS</td>\n",
       "      <td>0.221000</td>\n",
       "    </tr>\n",
       "    <tr>\n",
       "      <th>2</th>\n",
       "      <td>2017</td>\n",
       "      <td>ALABAMA</td>\n",
       "      <td>SOYBEANS</td>\n",
       "      <td>0.157167</td>\n",
       "    </tr>\n",
       "    <tr>\n",
       "      <th>3</th>\n",
       "      <td>2017</td>\n",
       "      <td>ALASKA</td>\n",
       "      <td>BARLEY</td>\n",
       "      <td>0.109375</td>\n",
       "    </tr>\n",
       "    <tr>\n",
       "      <th>4</th>\n",
       "      <td>2017</td>\n",
       "      <td>ALASKA</td>\n",
       "      <td>CORN</td>\n",
       "      <td>0.066842</td>\n",
       "    </tr>\n",
       "  </tbody>\n",
       "</table>\n",
       "</div>"
      ],
      "text/plain": [
       "   Year    State      CROP     PRICE\n",
       "0  2017  ALABAMA      CORN  0.072143\n",
       "1  2017  ALABAMA   PEANUTS  0.221000\n",
       "2  2017  ALABAMA  SOYBEANS  0.157167\n",
       "3  2017   ALASKA    BARLEY  0.109375\n",
       "4  2017   ALASKA      CORN  0.066842"
      ]
     },
     "execution_count": 8,
     "metadata": {},
     "output_type": "execute_result"
    }
   ],
   "source": [
    "# The unit of measurement of some crops (CORN, BARLEY and SOYBEAN) is in BU, while peanuts are in lb. \n",
    "# According below information even the number of pounds(lb) in an BU, varies from crop to crop. Since we will convert all the production in lb.\n",
    "# https://grains.org/markets-tools-data/tools/converting-grain-units/\n",
    "\n",
    "pivoted_corn_df.loc[:,'PRODUCTION'] = pivoted_corn_df['PRODUCTION']*56\n",
    "pivoted_barley_df.loc[:,'PRODUCTION'] = pivoted_barley_df['PRODUCTION']*48\n",
    "pivoted_soybean_df.loc[:,'PRODUCTION'] = pivoted_soybean_df['PRODUCTION']*60\n",
    "\n",
    "#Converting price from $/BU to $/lb\n",
    "pivoted_price_df.loc[pivoted_price_df['CROP']=='CORN','PRICE']/=56\n",
    "pivoted_price_df.loc[pivoted_price_df['CROP']=='BARLEY','PRICE']/=48\n",
    "pivoted_price_df.loc[pivoted_price_df['CROP']=='SOYBEANS','PRICE']/=60\n",
    "\n",
    "#Filling nulls\n",
    "pivoted_price_df.loc[:,'PRICE'] =pivoted_price_df.groupby(['Year','CROP'])['PRICE'].transform(lambda x: x.fillna(x.mean()))\n",
    "pivoted_price_df.head()"
   ]
  },
  {
   "cell_type": "markdown",
   "metadata": {},
   "source": [
    "### Combining datasets"
   ]
  },
  {
   "cell_type": "code",
   "execution_count": 9,
   "metadata": {},
   "outputs": [
    {
     "data": {
      "text/html": [
       "<div>\n",
       "<style scoped>\n",
       "    .dataframe tbody tr th:only-of-type {\n",
       "        vertical-align: middle;\n",
       "    }\n",
       "\n",
       "    .dataframe tbody tr th {\n",
       "        vertical-align: top;\n",
       "    }\n",
       "\n",
       "    .dataframe thead th {\n",
       "        text-align: right;\n",
       "    }\n",
       "</style>\n",
       "<table border=\"1\" class=\"dataframe\">\n",
       "  <thead>\n",
       "    <tr style=\"text-align: right;\">\n",
       "      <th></th>\n",
       "      <th>CROP</th>\n",
       "      <th>Year</th>\n",
       "      <th>State</th>\n",
       "      <th>County</th>\n",
       "      <th>ACRES HARVESTED</th>\n",
       "      <th>PRODUCTION</th>\n",
       "      <th>YIELD</th>\n",
       "      <th>PRICE</th>\n",
       "    </tr>\n",
       "  </thead>\n",
       "  <tbody>\n",
       "    <tr>\n",
       "      <th>147039</th>\n",
       "      <td>SOYBEANS</td>\n",
       "      <td>2017</td>\n",
       "      <td>WISCONSIN</td>\n",
       "      <td>WAUKESHA</td>\n",
       "      <td>21100.0</td>\n",
       "      <td>56280000.0</td>\n",
       "      <td>2667.298578</td>\n",
       "      <td>0.155667</td>\n",
       "    </tr>\n",
       "    <tr>\n",
       "      <th>147040</th>\n",
       "      <td>SOYBEANS</td>\n",
       "      <td>2017</td>\n",
       "      <td>WISCONSIN</td>\n",
       "      <td>WAUPACA</td>\n",
       "      <td>29800.0</td>\n",
       "      <td>82860000.0</td>\n",
       "      <td>2780.536913</td>\n",
       "      <td>0.155667</td>\n",
       "    </tr>\n",
       "    <tr>\n",
       "      <th>147041</th>\n",
       "      <td>SOYBEANS</td>\n",
       "      <td>2017</td>\n",
       "      <td>WISCONSIN</td>\n",
       "      <td>WAUSHARA</td>\n",
       "      <td>15300.0</td>\n",
       "      <td>38460000.0</td>\n",
       "      <td>2513.725490</td>\n",
       "      <td>0.155667</td>\n",
       "    </tr>\n",
       "    <tr>\n",
       "      <th>147042</th>\n",
       "      <td>SOYBEANS</td>\n",
       "      <td>2017</td>\n",
       "      <td>WISCONSIN</td>\n",
       "      <td>WINNEBAGO</td>\n",
       "      <td>43100.0</td>\n",
       "      <td>122340000.0</td>\n",
       "      <td>2838.515081</td>\n",
       "      <td>0.155667</td>\n",
       "    </tr>\n",
       "    <tr>\n",
       "      <th>147043</th>\n",
       "      <td>SOYBEANS</td>\n",
       "      <td>2017</td>\n",
       "      <td>WISCONSIN</td>\n",
       "      <td>WOOD</td>\n",
       "      <td>20100.0</td>\n",
       "      <td>51780000.0</td>\n",
       "      <td>2576.119403</td>\n",
       "      <td>0.155667</td>\n",
       "    </tr>\n",
       "  </tbody>\n",
       "</table>\n",
       "</div>"
      ],
      "text/plain": [
       "            CROP  Year      State     County  ACRES HARVESTED   PRODUCTION  \\\n",
       "147039  SOYBEANS  2017  WISCONSIN   WAUKESHA          21100.0   56280000.0   \n",
       "147040  SOYBEANS  2017  WISCONSIN    WAUPACA          29800.0   82860000.0   \n",
       "147041  SOYBEANS  2017  WISCONSIN   WAUSHARA          15300.0   38460000.0   \n",
       "147042  SOYBEANS  2017  WISCONSIN  WINNEBAGO          43100.0  122340000.0   \n",
       "147043  SOYBEANS  2017  WISCONSIN       WOOD          20100.0   51780000.0   \n",
       "\n",
       "              YIELD     PRICE  \n",
       "147039  2667.298578  0.155667  \n",
       "147040  2780.536913  0.155667  \n",
       "147041  2513.725490  0.155667  \n",
       "147042  2838.515081  0.155667  \n",
       "147043  2576.119403  0.155667  "
      ]
     },
     "execution_count": 9,
     "metadata": {},
     "output_type": "execute_result"
    }
   ],
   "source": [
    "#Combining all crops into single dataframe\n",
    "crop_df = pd.concat([pivoted_corn_df,pivoted_barley_df,pivoted_peanuts_df,pivoted_soybean_df]).reset_index().drop(columns='index')\n",
    "\n",
    "#Recalculating Yield, as Sum is not an appropriate aggregation for it.\n",
    "crop_df.loc[:,'YIELD']=crop_df['PRODUCTION']/crop_df['ACRES HARVESTED']\n",
    "\n",
    "#Adding prices\n",
    "crop_df = pd.merge(crop_df, pivoted_price_df, how='left')\n",
    "\n",
    "#Rearranging columns\n",
    "crop_df = crop_df[['CROP','Year','State','County','ACRES HARVESTED','PRODUCTION','YIELD','PRICE']]\n",
    "crop_df.tail()"
   ]
  },
  {
   "cell_type": "markdown",
   "metadata": {},
   "source": [
    "### Clean up"
   ]
  },
  {
   "cell_type": "markdown",
   "metadata": {},
   "source": [
    "Looking for any odd values in these columns."
   ]
  },
  {
   "cell_type": "code",
   "execution_count": 10,
   "metadata": {},
   "outputs": [
    {
     "name": "stdout",
     "output_type": "stream",
     "text": [
      "County: [u'OTHER (COMBINED) COUNTIES' u'ST. JOHNS' u'ST. JOSEPH' u'ST. LOUIS'\n",
      " u'STE. GENEVIEVE' u'ST. JOHN THE BAPTIST']\n",
      "State: []\n",
      "Year: []\n",
      "Negative Values: Empty DataFrame\n",
      "Columns: [CROP, Year, State, County, ACRES HARVESTED, PRODUCTION, YIELD, PRICE]\n",
      "Index: []\n"
     ]
    }
   ],
   "source": [
    "sp_ch = ['`','~','!','@','#','$','%','^','&','*','(',')','_','-','+','=','{','[','}','}','|','\\\\',':',';','\"',\"'\",'<',',','>','.','?','/']\n",
    "esc_lst =[re.escape(s) for s in sp_ch]\n",
    "pattern = '|'.join(esc_lst)\n",
    "print('County:',crop_df[crop_df['County'].str.contains(pattern, case=False)]['County'].unique())\n",
    "print('State:',crop_df[crop_df['State'].str.contains(pattern, case=False)]['State'].unique())\n",
    "print('Year:',crop_df[(crop_df['Year']<1984) | (crop_df['Year']>2018)]['Year'].unique())\n",
    "print('Negative Values:',crop_df[(crop_df<0).any(1)])"
   ]
  },
  {
   "cell_type": "markdown",
   "metadata": {},
   "source": [
    "There aren't any odd values in any of the columns but one value that can be of concern during modeling is \"OTHER (COMBINED) COUNTIES\". This is because mixture of combined counties changes for each year and crop. The range of values for Area, Production and Yield is so large that it will throw off the model for this County value. Hence we will drop it."
   ]
  },
  {
   "cell_type": "code",
   "execution_count": 11,
   "metadata": {},
   "outputs": [
    {
     "name": "stdout",
     "output_type": "stream",
     "text": [
      "         ACRES HARVESTED                PRICE           PRODUCTION  \\\n",
      "                     min        max       min       max        min   \n",
      "CROP                                                                 \n",
      "BARLEY              50.0   683700.0  0.022917  0.140000   120000.0   \n",
      "CORN               100.0  1668500.0  0.025893  0.141071   224000.0   \n",
      "PEANUTS              5.0   224200.0  0.164000  0.431000    11000.0   \n",
      "SOYBEANS            30.0  1763540.0  0.067500  0.245000    54000.0   \n",
      "\n",
      "                              YIELD                  Year          \n",
      "                   max          min           max     min     max  \n",
      "CROP                                                               \n",
      "BARLEY    2.115163e+09   426.666667   7609.127517  1984.0  2018.0  \n",
      "CORN      1.305159e+10  1536.000000  13864.592953  1984.0  2017.0  \n",
      "PEANUTS   9.232500e+08   876.470588   4623.287671  1984.0  2017.0  \n",
      "SOYBEANS  4.314090e+09   540.000000   3594.381506  1984.0  2017.0  \n"
     ]
    }
   ],
   "source": [
    "print(crop_df[crop_df['County']=='OTHER (COMBINED) COUNTIES'].groupby('CROP').describe().loc[:,(slice(None),['max','min'])])\n",
    "filtered_crop_df = crop_df[~(crop_df['County']=='OTHER (COMBINED) COUNTIES')]"
   ]
  },
  {
   "cell_type": "markdown",
   "metadata": {},
   "source": [
    "Looks like all of the columns have valid data types that corresponds to the value expected in the column.\n",
    "But looking for the non-nulls in the key columns ACRES HARVESTED,PRODUCTION and YIELD have good population except for few nulls. Which we will deal with soon. For rest of the columns where non-null values that are not even 20%, we will have to ignore that data (drop columns)."
   ]
  },
  {
   "cell_type": "code",
   "execution_count": 12,
   "metadata": {
    "scrolled": true
   },
   "outputs": [
    {
     "name": "stdout",
     "output_type": "stream",
     "text": [
      "<class 'pandas.core.frame.DataFrame'>\n",
      "Int64Index: 144424 entries, 0 to 147043\n",
      "Data columns (total 8 columns):\n",
      "CROP               144424 non-null object\n",
      "Year               144424 non-null int64\n",
      "State              144424 non-null object\n",
      "County             144424 non-null object\n",
      "ACRES HARVESTED    143870 non-null float64\n",
      "PRODUCTION         143870 non-null float64\n",
      "YIELD              143869 non-null float64\n",
      "PRICE              144340 non-null float64\n",
      "dtypes: float64(4), int64(1), object(3)\n",
      "memory usage: 9.9+ MB\n",
      "None\n"
     ]
    }
   ],
   "source": [
    "print(filtered_crop_df.info())"
   ]
  },
  {
   "cell_type": "code",
   "execution_count": 13,
   "metadata": {},
   "outputs": [
    {
     "name": "stdout",
     "output_type": "stream",
     "text": [
      "Pattern for Nulls: ['BARLEY' 2018L]\n",
      "What are other values does the above pattern have for Price: [nan]\n",
      "Any more nulls?\n",
      " CROP               False\n",
      "Year               False\n",
      "State              False\n",
      "County             False\n",
      "ACRES HARVESTED    False\n",
      "PRODUCTION         False\n",
      "YIELD              False\n",
      "PRICE              False\n",
      "dtype: bool\n"
     ]
    }
   ],
   "source": [
    "# Looking above Nulls are in any of the numerical columns.\n",
    "# Dropping nulls if Harvested Acres or Production is missing, as these are important features. \n",
    "# Using statistical method to get approximate values may skew the model, hence dropping these rows is a better option.\n",
    "temp_crop_df = filtered_crop_df.dropna(axis=0,subset=['ACRES HARVESTED','PRODUCTION'])\n",
    "\n",
    "#Looking for pattern in the remaining nulls. Looks like the price is missing for Barley for the year 2018.\n",
    "# We can drop these too. Few values \n",
    "print('Pattern for Nulls: {}'.format(pd.unique(temp_crop_df[temp_crop_df.isnull().any(axis=1)][['CROP','Year']].values.ravel('K'))))\n",
    "print('What are other values does the above pattern have for Price: {}'.\\\n",
    "      format(temp_crop_df.loc[(temp_crop_df['CROP']=='BARLEY') & (temp_crop_df['Year']==2018),:]['PRICE'].unique()))\n",
    "\n",
    "clean_crop_df = temp_crop_df.dropna(axis=0,subset=['PRICE'])\n",
    "print('Any more nulls?\\n {}'.format(clean_crop_df.isnull().any()))"
   ]
  },
  {
   "cell_type": "markdown",
   "metadata": {},
   "source": [
    "Looking for duplicates by Crop, Year, State and County but there are none."
   ]
  },
  {
   "cell_type": "code",
   "execution_count": 14,
   "metadata": {},
   "outputs": [
    {
     "data": {
      "text/plain": [
       "(143785, 8)"
      ]
     },
     "execution_count": 14,
     "metadata": {},
     "output_type": "execute_result"
    }
   ],
   "source": [
    "clean_crop_df[clean_crop_df.duplicated(['CROP','Year','State','County'],keep=False)]\n",
    "clean_crop_df.shape"
   ]
  },
  {
   "cell_type": "markdown",
   "metadata": {},
   "source": [
    "The distribution of all the columns looks normally distributed. Although Acres Harvested and Production is denser towards the 0, which just mean there are more smaller farms. Hence no further action is required here."
   ]
  },
  {
   "cell_type": "code",
   "execution_count": 15,
   "metadata": {
    "scrolled": true
   },
   "outputs": [],
   "source": [
    "# import seaborn as sns\n",
    "# #clean_crop_df[['ACRES HARVESTED','PRODUCTION','YIELD','PRICE']].hist(figsize=(15,25),layout=(4,1),bins=100, column=clean_crop_df['CROP'])\n",
    "# sns.distplot(clean_crop_df, kde=False, rug=True)\n",
    "# plt.show()"
   ]
  },
  {
   "cell_type": "markdown",
   "metadata": {},
   "source": [
    "****************"
   ]
  },
  {
   "cell_type": "markdown",
   "metadata": {},
   "source": [
    "## Unemployment Rate\n",
    "This dataset is from Bureau of Labor Statistics. The downloaded excel workbook consisted of state wise unemployment for every month since Jan 1976 to Nov 2018. The set was split by state with each state in a separate sheet, hence needed to be combined into one large set. And since the crop statistics is on yearly basis, this set needs to be aggregated to yearly numbers.\n",
    "\n",
    "Once the set is combined and aggregated we write it into another excel file and later manually added as a seperate sheet to rest of the data workbook."
   ]
  },
  {
   "cell_type": "code",
   "execution_count": 16,
   "metadata": {},
   "outputs": [
    {
     "name": "stdout",
     "output_type": "stream",
     "text": [
      "      State  Year  Yearly Unemployment Rate\n",
      "11  ALABAMA  1976                  6.766667\n",
      "23  ALABAMA  1977                  7.316667\n",
      "35  ALABAMA  1978                  6.316667\n",
      "47  ALABAMA  1979                  7.175000\n",
      "59  ALABAMA  1980                  8.883333\n"
     ]
    }
   ],
   "source": [
    "xl_file = 'Data/DataFinder-20190114232211.xlsx'\n",
    "xl_sheets = pd.ExcelFile(xl_file).sheet_names\n",
    "unemployment_df = pd.DataFrame({})\n",
    "\n",
    "def read_unemployment_sheet(sheet):\n",
    "    #Reading one sheet from excel, while only selecting first 5 columns as rest of the columns are empty. \n",
    "    df = pd.read_excel(xl_file, sheet_name=sheet).iloc[:,:5]\n",
    "    \n",
    "    #Assigning state name, that's located at 7th row of 2nd column, to seperate column.\n",
    "    state_name = df.iloc[6,1]\n",
    "    #print(state_name)\n",
    "    df['Unnamed: 4']=state_name\n",
    "    \n",
    "    #Filtering out all rows above the actual data.\n",
    "    df = df.iloc[11:,:]\n",
    "    \n",
    "    #Renaming columns\n",
    "    df.columns = ['Year','Period','Month','Unemployment Rate','State']\n",
    "    \n",
    "    #Type casting to make sure 'Unemployment Rate' is numeric before taking yearly averages\n",
    "    df['Unemployment Rate']=pd.to_numeric(df['Unemployment Rate'])\n",
    "    \n",
    "    #Takes mean 'Unemployment Rate' across year.\n",
    "    df['Yearly Unemployment Rate'] = df.groupby('Year')['Unemployment Rate'].transform('mean')\n",
    "    \n",
    "    #returns selected columns and dropping duplicates.\n",
    "    return df[['State','Year','Yearly Unemployment Rate']].drop_duplicates()\n",
    "    \n",
    "unemployment_df = unemployment_df.append(map(read_unemployment_sheet,xl_sheets))\n",
    "unemployment_df['State']=unemployment_df['State'].str.upper()\n",
    "unemployment_df['Year']=unemployment_df['Year'].astype('int64')\n",
    "print(unemployment_df.head())\n",
    "# writer = pd.ExcelWriter('Data/US_Historical_UnemploymentRate_ByState.xlsx')\n",
    "# xl_df.to_excel(writer,'US UnemploymentRate', index=False)\n",
    "# writer.save()"
   ]
  },
  {
   "cell_type": "markdown",
   "metadata": {},
   "source": [
    "Combining Unemployment data with yield."
   ]
  },
  {
   "cell_type": "code",
   "execution_count": 17,
   "metadata": {},
   "outputs": [
    {
     "data": {
      "text/html": [
       "<div>\n",
       "<style scoped>\n",
       "    .dataframe tbody tr th:only-of-type {\n",
       "        vertical-align: middle;\n",
       "    }\n",
       "\n",
       "    .dataframe tbody tr th {\n",
       "        vertical-align: top;\n",
       "    }\n",
       "\n",
       "    .dataframe thead th {\n",
       "        text-align: right;\n",
       "    }\n",
       "</style>\n",
       "<table border=\"1\" class=\"dataframe\">\n",
       "  <thead>\n",
       "    <tr style=\"text-align: right;\">\n",
       "      <th></th>\n",
       "      <th>CROP</th>\n",
       "      <th>Year</th>\n",
       "      <th>State</th>\n",
       "      <th>County</th>\n",
       "      <th>ACRES HARVESTED</th>\n",
       "      <th>PRODUCTION</th>\n",
       "      <th>YIELD</th>\n",
       "      <th>PRICE</th>\n",
       "      <th>Yearly Unemployment Rate</th>\n",
       "    </tr>\n",
       "  </thead>\n",
       "  <tbody>\n",
       "    <tr>\n",
       "      <th>0</th>\n",
       "      <td>CORN</td>\n",
       "      <td>1984</td>\n",
       "      <td>ALABAMA</td>\n",
       "      <td>AUTAUGA</td>\n",
       "      <td>2500.0</td>\n",
       "      <td>5768000.0</td>\n",
       "      <td>2307.200000</td>\n",
       "      <td>0.050893</td>\n",
       "      <td>11.0</td>\n",
       "    </tr>\n",
       "    <tr>\n",
       "      <th>1</th>\n",
       "      <td>CORN</td>\n",
       "      <td>1984</td>\n",
       "      <td>ALABAMA</td>\n",
       "      <td>BALDWIN</td>\n",
       "      <td>40700.0</td>\n",
       "      <td>178976000.0</td>\n",
       "      <td>4397.444717</td>\n",
       "      <td>0.050893</td>\n",
       "      <td>11.0</td>\n",
       "    </tr>\n",
       "    <tr>\n",
       "      <th>2</th>\n",
       "      <td>CORN</td>\n",
       "      <td>1984</td>\n",
       "      <td>ALABAMA</td>\n",
       "      <td>BARBOUR</td>\n",
       "      <td>7700.0</td>\n",
       "      <td>24304000.0</td>\n",
       "      <td>3156.363636</td>\n",
       "      <td>0.050893</td>\n",
       "      <td>11.0</td>\n",
       "    </tr>\n",
       "    <tr>\n",
       "      <th>3</th>\n",
       "      <td>CORN</td>\n",
       "      <td>1984</td>\n",
       "      <td>ALABAMA</td>\n",
       "      <td>BLOUNT</td>\n",
       "      <td>2200.0</td>\n",
       "      <td>6944000.0</td>\n",
       "      <td>3156.363636</td>\n",
       "      <td>0.050893</td>\n",
       "      <td>11.0</td>\n",
       "    </tr>\n",
       "    <tr>\n",
       "      <th>4</th>\n",
       "      <td>CORN</td>\n",
       "      <td>1984</td>\n",
       "      <td>ALABAMA</td>\n",
       "      <td>BULLOCK</td>\n",
       "      <td>2000.0</td>\n",
       "      <td>6048000.0</td>\n",
       "      <td>3024.000000</td>\n",
       "      <td>0.050893</td>\n",
       "      <td>11.0</td>\n",
       "    </tr>\n",
       "  </tbody>\n",
       "</table>\n",
       "</div>"
      ],
      "text/plain": [
       "   CROP  Year    State   County  ACRES HARVESTED   PRODUCTION        YIELD  \\\n",
       "0  CORN  1984  ALABAMA  AUTAUGA           2500.0    5768000.0  2307.200000   \n",
       "1  CORN  1984  ALABAMA  BALDWIN          40700.0  178976000.0  4397.444717   \n",
       "2  CORN  1984  ALABAMA  BARBOUR           7700.0   24304000.0  3156.363636   \n",
       "3  CORN  1984  ALABAMA   BLOUNT           2200.0    6944000.0  3156.363636   \n",
       "4  CORN  1984  ALABAMA  BULLOCK           2000.0    6048000.0  3024.000000   \n",
       "\n",
       "      PRICE  Yearly Unemployment Rate  \n",
       "0  0.050893                      11.0  \n",
       "1  0.050893                      11.0  \n",
       "2  0.050893                      11.0  \n",
       "3  0.050893                      11.0  \n",
       "4  0.050893                      11.0  "
      ]
     },
     "execution_count": 17,
     "metadata": {},
     "output_type": "execute_result"
    }
   ],
   "source": [
    "unemp_crop_df = pd.merge(clean_crop_df,unemployment_df,how='left')\n",
    "unemp_crop_df.head()"
   ]
  },
  {
   "cell_type": "markdown",
   "metadata": {},
   "source": [
    "Exporting to Excel file."
   ]
  },
  {
   "cell_type": "code",
   "execution_count": 18,
   "metadata": {},
   "outputs": [],
   "source": [
    "corp_writer = pd.ExcelWriter('Data/Crop_Pivoted.xlsx')\n",
    "unemp_crop_df.to_excel(corp_writer,'Crop Data', index=False)\n",
    "corp_writer.save()"
   ]
  },
  {
   "cell_type": "code",
   "execution_count": null,
   "metadata": {},
   "outputs": [],
   "source": []
  }
 ],
 "metadata": {
  "anaconda-cloud": {},
  "kernelspec": {
   "display_name": "Python 2",
   "language": "python",
   "name": "python2"
  },
  "language_info": {
   "codemirror_mode": {
    "name": "ipython",
    "version": 2
   },
   "file_extension": ".py",
   "mimetype": "text/x-python",
   "name": "python",
   "nbconvert_exporter": "python",
   "pygments_lexer": "ipython2",
   "version": "2.7.15"
  }
 },
 "nbformat": 4,
 "nbformat_minor": 1
}
