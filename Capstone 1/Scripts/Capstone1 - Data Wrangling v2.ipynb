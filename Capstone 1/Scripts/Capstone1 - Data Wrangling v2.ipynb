{
 "cells": [
  {
   "cell_type": "markdown",
   "metadata": {},
   "source": [
    "# Capstone 1 Project: Data Wrangling"
   ]
  },
  {
   "cell_type": "markdown",
   "metadata": {},
   "source": [
    "Focus of exploratory data analysis will be;\n",
    "- Missing data (Null values)\n",
    "- Invalid data\n",
    "- Duplicates\n",
    "- Inconsistent column naming\n",
    "- Untidiness\n",
    "- Any further processing of data to make it meaningful\n",
    "- Outliers"
   ]
  },
  {
   "cell_type": "markdown",
   "metadata": {},
   "source": [
    "The crop information is available with variety of different data points but we will focus mainly on Yield and how it is affected by the Arces harvested, climate and labor avalability. \n",
    "<p><b>Acres Harvested</b>: Total strech of land from which the crop is harvested measured in arces. Where 1 acres is 43560 sq. ft.</p>\n",
    "<p><b>Production</b>: The total amount of crop produce by weight measured in Bushel (imperical unit).<p>\n",
    "<p><b>Yield</b>: Yield is the output of the land per acres, so it is production per acres (Production/Acres Harvested)</p>"
   ]
  },
  {
   "cell_type": "markdown",
   "metadata": {},
   "source": [
    "## Importing data"
   ]
  },
  {
   "cell_type": "code",
   "execution_count": 1,
   "metadata": {},
   "outputs": [],
   "source": [
    "import pandas as pd\n",
    "import numpy as np\n",
    "import re\n",
    "import matplotlib.pyplot as plt\n",
    "from __future__ import print_function"
   ]
  },
  {
   "cell_type": "code",
   "execution_count": 2,
   "metadata": {
    "scrolled": true
   },
   "outputs": [],
   "source": [
    "data_file = 'C:/Users/patel/OneDrive/Documents/DataScience/Springboard/Projects/Capstone 1/Data/USDA_Data_v2.0.xlsx'\n",
    "#data_xl_sheets = pd.ExcelFile(data_file).sheet_names\n",
    "corn_df = pd.read_excel(data_file, sheet_name='Corn')[['Year','State','County','Data Item', 'Value']]\n",
    "barley_df = pd.read_excel(data_file, sheet_name='Barley')[['Year','State','County','Data Item','Value']]\n",
    "peanuts_df = pd.read_excel(data_file, sheet_name='Peanuts')[['Year','State','County','Data Item','Value']]\n",
    "soybean_df = pd.read_excel(data_file, sheet_name='Soybean')[['Year','State','County','Data Item','Value']]\n",
    "price_df = pd.read_excel(data_file, sheet_name='Price Received')[['Year','State','Commodity','Value']]\n",
    "\n",
    "# #importing unemployment rate\n",
    "# unemployment_df = pd.read_excel(data_file, sheet_name='US UnemploymentRate')\n",
    "# #setting case to upper, easier to merge with rest of the data.\n",
    "# unemployment_df['State']=unemployment_df['State'].str.upper()"
   ]
  },
  {
   "cell_type": "markdown",
   "metadata": {},
   "source": [
    "Even though the data we got downloaded from USDA website was as County level, it still seem to have another level of detail in it. After checking the raw data the level below County is 'Ag District'. We can ignore the column but expect duplicate rows for each County for a Year. This needs to be aggregated to County level."
   ]
  },
  {
   "cell_type": "code",
   "execution_count": 3,
   "metadata": {
    "scrolled": true
   },
   "outputs": [
    {
     "data": {
      "text/html": [
       "<div>\n",
       "<style scoped>\n",
       "    .dataframe tbody tr th:only-of-type {\n",
       "        vertical-align: middle;\n",
       "    }\n",
       "\n",
       "    .dataframe tbody tr th {\n",
       "        vertical-align: top;\n",
       "    }\n",
       "\n",
       "    .dataframe thead th {\n",
       "        text-align: right;\n",
       "    }\n",
       "</style>\n",
       "<table border=\"1\" class=\"dataframe\">\n",
       "  <thead>\n",
       "    <tr style=\"text-align: right;\">\n",
       "      <th></th>\n",
       "      <th>Year</th>\n",
       "      <th>State</th>\n",
       "      <th>County</th>\n",
       "      <th>Data Item</th>\n",
       "      <th>Value</th>\n",
       "    </tr>\n",
       "  </thead>\n",
       "  <tbody>\n",
       "    <tr>\n",
       "      <th>203655</th>\n",
       "      <td>1984</td>\n",
       "      <td>ALABAMA</td>\n",
       "      <td>OTHER (COMBINED) COUNTIES</td>\n",
       "      <td>CORN, GRAIN - ACRES HARVESTED</td>\n",
       "      <td>1500.0</td>\n",
       "    </tr>\n",
       "    <tr>\n",
       "      <th>203781</th>\n",
       "      <td>1984</td>\n",
       "      <td>ALABAMA</td>\n",
       "      <td>OTHER (COMBINED) COUNTIES</td>\n",
       "      <td>CORN, GRAIN - ACRES HARVESTED</td>\n",
       "      <td>900.0</td>\n",
       "    </tr>\n",
       "    <tr>\n",
       "      <th>203656</th>\n",
       "      <td>1984</td>\n",
       "      <td>ALABAMA</td>\n",
       "      <td>OTHER (COMBINED) COUNTIES</td>\n",
       "      <td>CORN, GRAIN - PRODUCTION, MEASURED IN BU</td>\n",
       "      <td>75000.0</td>\n",
       "    </tr>\n",
       "    <tr>\n",
       "      <th>203782</th>\n",
       "      <td>1984</td>\n",
       "      <td>ALABAMA</td>\n",
       "      <td>OTHER (COMBINED) COUNTIES</td>\n",
       "      <td>CORN, GRAIN - PRODUCTION, MEASURED IN BU</td>\n",
       "      <td>35000.0</td>\n",
       "    </tr>\n",
       "    <tr>\n",
       "      <th>203657</th>\n",
       "      <td>1984</td>\n",
       "      <td>ALABAMA</td>\n",
       "      <td>OTHER (COMBINED) COUNTIES</td>\n",
       "      <td>CORN, GRAIN - YIELD, MEASURED IN BU / ACRE</td>\n",
       "      <td>50.0</td>\n",
       "    </tr>\n",
       "  </tbody>\n",
       "</table>\n",
       "</div>"
      ],
      "text/plain": [
       "        Year    State                     County  \\\n",
       "203655  1984  ALABAMA  OTHER (COMBINED) COUNTIES   \n",
       "203781  1984  ALABAMA  OTHER (COMBINED) COUNTIES   \n",
       "203656  1984  ALABAMA  OTHER (COMBINED) COUNTIES   \n",
       "203782  1984  ALABAMA  OTHER (COMBINED) COUNTIES   \n",
       "203657  1984  ALABAMA  OTHER (COMBINED) COUNTIES   \n",
       "\n",
       "                                         Data Item    Value  \n",
       "203655               CORN, GRAIN - ACRES HARVESTED   1500.0  \n",
       "203781               CORN, GRAIN - ACRES HARVESTED    900.0  \n",
       "203656    CORN, GRAIN - PRODUCTION, MEASURED IN BU  75000.0  \n",
       "203782    CORN, GRAIN - PRODUCTION, MEASURED IN BU  35000.0  \n",
       "203657  CORN, GRAIN - YIELD, MEASURED IN BU / ACRE     50.0  "
      ]
     },
     "execution_count": 3,
     "metadata": {},
     "output_type": "execute_result"
    }
   ],
   "source": [
    "corn_df[corn_df.duplicated(['Year','State','County','Data Item'],keep=False)].sort_values(['Year','State','County','Data Item']).head()"
   ]
  },
  {
   "cell_type": "markdown",
   "metadata": {},
   "source": [
    "For most of the crops we have aggregate data but for corn only the most widely produced variety has data about Acres Harvested, Production and Yield. Hence in case of Corn we will be using only the data of grain variety of corn."
   ]
  },
  {
   "cell_type": "code",
   "execution_count": 4,
   "metadata": {},
   "outputs": [
    {
     "data": {
      "text/plain": [
       "array([u'CORN, GRAIN - ACRES HARVESTED',\n",
       "       u'CORN, GRAIN - PRODUCTION, MEASURED IN BU',\n",
       "       u'CORN, GRAIN - YIELD, MEASURED IN BU / ACRE'], dtype=object)"
      ]
     },
     "execution_count": 4,
     "metadata": {},
     "output_type": "execute_result"
    }
   ],
   "source": [
    "corn_df['Data Item'].unique()"
   ]
  },
  {
   "cell_type": "markdown",
   "metadata": {},
   "source": [
    "### Tidy up\n",
    "Now we want to pivot the values in Data Item in thier own columns, so each row represnts only a obervation.\n",
    "\n",
    "But before that we need to shorten up values so that column names are short enough. To do that we do the following,\n",
    "1. Remove some of the redundent information like 'CORN, GRAIN'.\n",
    "2. Certain information from Data Item needs to be cleaned up."
   ]
  },
  {
   "cell_type": "code",
   "execution_count": 5,
   "metadata": {
    "scrolled": true
   },
   "outputs": [],
   "source": [
    "#CORN\n",
    "#Removing any combination of CORN GRAIN and preceding whitespaces\n",
    "corn_df.loc[:,'Data Item'] = (corn_df['Data Item'].str.replace(r'^CORN, GRAIN[\\s,][\\s-]','')).str.replace(r'^\\s','')\n",
    "\n",
    "#Removing anything after comma(,) as it just tells you the unit of the value.\n",
    "corn_df.loc[:,'Data Item'] = corn_df['Data Item'].str.split(',').str[0]\n",
    "\n",
    "#----------------------------------------------------------\n",
    "#BARLEY\n",
    "#Removing 'BARLEY -' and whitespaces\n",
    "barley_df.loc[:,'Data Item'] = (barley_df['Data Item'].str.replace(r'^BARLEY[\\s,][\\s-]','')).str.replace(r'^\\s','')\n",
    "\n",
    "#Removing anything after comma(,) as it just tells you the unit of the value.\n",
    "barley_df.loc[:,'Data Item'] = barley_df['Data Item'].str.split(',').str[0]\n",
    "\n",
    "#----------------------------------------------------------\n",
    "#PEANUTS\n",
    "#Removing 'PEANUTS -' and whitespaces\n",
    "peanuts_df.loc[:,'Data Item'] = (peanuts_df['Data Item'].str.replace(r'^PEANUTS[\\s,][\\s-]','')).str.replace(r'^\\s','')\n",
    "\n",
    "#Removing anything after comma(,) as it just tells you the unit of the value.\n",
    "peanuts_df.loc[:,'Data Item'] = peanuts_df['Data Item'].str.split(',').str[0]\n",
    "\n",
    "#----------------------------------------------------------\n",
    "#SOY BEANS\n",
    "#Removing 'SOYBEANS -' and whitespaces\n",
    "soybean_df.loc[:,'Data Item'] = (soybean_df['Data Item'].str.replace(r'^SOYBEANS[\\s,][\\s-]','')).str.replace(r'^\\s','')\n",
    "\n",
    "#Removing anything after comma(,) as it just tells you the unit of the value.\n",
    "soybean_df.loc[:,'Data Item'] = soybean_df['Data Item'].str.split(',').str[0]"
   ]
  },
  {
   "cell_type": "markdown",
   "metadata": {},
   "source": [
    "Pivoting the 'Data Item' as well as aggregating values at County level."
   ]
  },
  {
   "cell_type": "code",
   "execution_count": 6,
   "metadata": {
    "scrolled": true
   },
   "outputs": [
    {
     "name": "stdout",
     "output_type": "stream",
     "text": [
      "   Year    State   County        Data Item     Value\n",
      "0  2017  ALABAMA  AUTAUGA  ACRES HARVESTED     650.0\n",
      "1  2017  ALABAMA  AUTAUGA       PRODUCTION  111000.0\n",
      "2  2017  ALABAMA  AUTAUGA            YIELD     170.8\n",
      "3  2017  ALABAMA  BULLOCK  ACRES HARVESTED     800.0\n",
      "4  2017  ALABAMA  BULLOCK       PRODUCTION  108000.0\n",
      "\n",
      "   Year       State                     County        Data Item     Value\n",
      "0  2018  CALIFORNIA  OTHER (COMBINED) COUNTIES  ACRES HARVESTED    1700.0\n",
      "1  2018  CALIFORNIA  OTHER (COMBINED) COUNTIES       PRODUCTION  100000.0\n",
      "2  2018  CALIFORNIA  OTHER (COMBINED) COUNTIES            YIELD      58.8\n",
      "3  2018  CALIFORNIA            SAN LUIS OBISPO  ACRES HARVESTED    7800.0\n",
      "4  2018  CALIFORNIA            SAN LUIS OBISPO       PRODUCTION  450000.0\n",
      "\n",
      "   Year    State                     County        Data Item    Value\n",
      "0  2017  ALABAMA                     DALLAS  ACRES HARVESTED     1600\n",
      "1  2017  ALABAMA                     DALLAS       PRODUCTION  5500000\n",
      "2  2017  ALABAMA                     DALLAS            YIELD     3438\n",
      "3  2017  ALABAMA  OTHER (COMBINED) COUNTIES  ACRES HARVESTED     1900\n",
      "4  2017  ALABAMA  OTHER (COMBINED) COUNTIES       PRODUCTION  6050000\n",
      "\n",
      "   Year    State  County        Data Item     Value\n",
      "0  2017  ALABAMA  DALLAS  ACRES HARVESTED    6200.0\n",
      "1  2017  ALABAMA  DALLAS       PRODUCTION  268000.0\n",
      "2  2017  ALABAMA  DALLAS            YIELD      43.2\n",
      "3  2017  ALABAMA  ELMORE  ACRES HARVESTED     900.0\n",
      "4  2017  ALABAMA  ELMORE       PRODUCTION   35900.0\n",
      "\n",
      "   Year    State      CROP  PRICE\n",
      "0  2017  ALABAMA      CORN  4.040\n",
      "1  2017  ALABAMA   PEANUTS  0.221\n",
      "2  2017  ALABAMA  SOYBEANS  9.430\n",
      "3  2017   ALASKA    BARLEY  5.250\n",
      "4  2017   ALASKA      CORN    NaN\n"
     ]
    }
   ],
   "source": [
    "#CORN\n",
    "pivoted_corn_df = corn_df.pivot_table(index=['Year','State','County'], columns='Data Item', values='Value',aggfunc='sum').reset_index()\n",
    "pivoted_corn_df.columns.name=None\n",
    "pivoted_corn_df.loc[:,'CROP']='Corn'\n",
    "\n",
    "#----------------------------------------------------------\n",
    "#BARLEY\n",
    "pivoted_barley_df = barley_df.pivot_table(index=['Year','State','County'], columns='Data Item', values='Value',aggfunc='sum').reset_index()\n",
    "pivoted_barley_df.columns.name=None\n",
    "pivoted_barley_df.loc[:,'CROP']='Barley'\n",
    "\n",
    "#----------------------------------------------------------\n",
    "#PEANUTS\n",
    "pivoted_peanuts_df = peanuts_df.pivot_table(index=['Year','State','County'], columns='Data Item', values='Value',aggfunc='sum').reset_index()\n",
    "pivoted_peanuts_df.columns.name=None\n",
    "pivoted_peanuts_df.loc[:,'CROP']='Peanuts'\n",
    "\n",
    "#----------------------------------------------------------\n",
    "#SOY BEANS\n",
    "pivoted_soybean_df = soybean_df.pivot_table(index=['Year','State','County'], columns='Data Item', values='Value',aggfunc='sum').reset_index()\n",
    "pivoted_soybean_df.columns.name=None\n",
    "pivoted_soybean_df.loc[:,'CROP']='SoyBeans'\n",
    "\n",
    "#----------------------------------------------------------\n",
    "#PRICE\n",
    "pivoted_price_df=price_df.copy()\n",
    "pivoted_price_df.columns = ['Year','State','CROP','PRICE']\n",
    "#A little clean up\n",
    "pivoted_price_df['PRICE'] = pivoted_price_df['PRICE'].replace(\" (NA)\",np.NaN)\n",
    "\n",
    "print(\"{A}\\n\\n{B}\\n\\n{C}\\n\\n{D}\\n\\n{E}\".format(A=corn_df.head(),B=barley_df.head(),C=peanuts_df.head(),D=soybean_df.head(),E=pivoted_price_df.head()))"
   ]
  },
  {
   "cell_type": "markdown",
   "metadata": {},
   "source": [
    "#### Standardizing all values to same unit Production in pounds (lbs) and price in $/pound(lb)"
   ]
  },
  {
   "cell_type": "code",
   "execution_count": null,
   "metadata": {},
   "outputs": [],
   "source": [
    "# The unit of measurement of some crops (CORN, BARLEY and SOYBEAN) is in BU, while peanuts are in lb. \n",
    "# According below information even the number of pounds(lb) in an BU, varies from crop to crop. Since we will convert all the production in lb.\n",
    "# https://grains.org/markets-tools-data/tools/converting-grain-units/\n",
    "\n",
    "pivoted_corn_df.loc[:,'PRODUCTION'] = pivoted_corn_df['PRODUCTION']*56\n",
    "pivoted_barley_df.loc[:,'PRODUCTION'] = pivoted_barley_df['PRODUCTION']*48\n",
    "pivoted_soybean_df.loc[:,'PRODUCTION'] = pivoted_soybean_df['PRODUCTION']*60\n",
    "\n",
    "#Converting price from $/BU to $/lb\n",
    "pivoted_price_df.loc[pivoted_price_df['CROP']=='CORN','PRICE']/=56\n",
    "pivoted_price_df.loc[pivoted_price_df['CROP']=='BARLEY','PRICE']/=48\n",
    "pivoted_price_df.loc[pivoted_price_df['CROP']=='SOYBEANS','PRICE']/=60\n",
    "\n",
    "#Filling nulls\n",
    "pivoted_price_df.loc[:,'PRICE'] =pivoted_price_df.groupby(['Year','CROP'])['PRICE'].transform(lambda x: x.fillna(x.mean()))\n",
    "pivoted_price_df.head()"
   ]
  },
  {
   "cell_type": "code",
   "execution_count": 8,
   "metadata": {},
   "outputs": [
    {
     "data": {
      "text/html": [
       "<div>\n",
       "<style scoped>\n",
       "    .dataframe tbody tr th:only-of-type {\n",
       "        vertical-align: middle;\n",
       "    }\n",
       "\n",
       "    .dataframe tbody tr th {\n",
       "        vertical-align: top;\n",
       "    }\n",
       "\n",
       "    .dataframe thead th {\n",
       "        text-align: right;\n",
       "    }\n",
       "</style>\n",
       "<table border=\"1\" class=\"dataframe\">\n",
       "  <thead>\n",
       "    <tr style=\"text-align: right;\">\n",
       "      <th></th>\n",
       "      <th>CROP</th>\n",
       "      <th>Year</th>\n",
       "      <th>State</th>\n",
       "      <th>County</th>\n",
       "      <th>ACRES HARVESTED</th>\n",
       "      <th>PRODUCTION</th>\n",
       "      <th>YIELD</th>\n",
       "    </tr>\n",
       "  </thead>\n",
       "  <tbody>\n",
       "    <tr>\n",
       "      <th>147039</th>\n",
       "      <td>SoyBeans</td>\n",
       "      <td>2017</td>\n",
       "      <td>WISCONSIN</td>\n",
       "      <td>WAUKESHA</td>\n",
       "      <td>21100.0</td>\n",
       "      <td>938000.0</td>\n",
       "      <td>44.454976</td>\n",
       "    </tr>\n",
       "    <tr>\n",
       "      <th>147040</th>\n",
       "      <td>SoyBeans</td>\n",
       "      <td>2017</td>\n",
       "      <td>WISCONSIN</td>\n",
       "      <td>WAUPACA</td>\n",
       "      <td>29800.0</td>\n",
       "      <td>1381000.0</td>\n",
       "      <td>46.342282</td>\n",
       "    </tr>\n",
       "    <tr>\n",
       "      <th>147041</th>\n",
       "      <td>SoyBeans</td>\n",
       "      <td>2017</td>\n",
       "      <td>WISCONSIN</td>\n",
       "      <td>WAUSHARA</td>\n",
       "      <td>15300.0</td>\n",
       "      <td>641000.0</td>\n",
       "      <td>41.895425</td>\n",
       "    </tr>\n",
       "    <tr>\n",
       "      <th>147042</th>\n",
       "      <td>SoyBeans</td>\n",
       "      <td>2017</td>\n",
       "      <td>WISCONSIN</td>\n",
       "      <td>WINNEBAGO</td>\n",
       "      <td>43100.0</td>\n",
       "      <td>2039000.0</td>\n",
       "      <td>47.308585</td>\n",
       "    </tr>\n",
       "    <tr>\n",
       "      <th>147043</th>\n",
       "      <td>SoyBeans</td>\n",
       "      <td>2017</td>\n",
       "      <td>WISCONSIN</td>\n",
       "      <td>WOOD</td>\n",
       "      <td>20100.0</td>\n",
       "      <td>863000.0</td>\n",
       "      <td>42.935323</td>\n",
       "    </tr>\n",
       "  </tbody>\n",
       "</table>\n",
       "</div>"
      ],
      "text/plain": [
       "            CROP  Year      State     County  ACRES HARVESTED  PRODUCTION  \\\n",
       "147039  SoyBeans  2017  WISCONSIN   WAUKESHA          21100.0    938000.0   \n",
       "147040  SoyBeans  2017  WISCONSIN    WAUPACA          29800.0   1381000.0   \n",
       "147041  SoyBeans  2017  WISCONSIN   WAUSHARA          15300.0    641000.0   \n",
       "147042  SoyBeans  2017  WISCONSIN  WINNEBAGO          43100.0   2039000.0   \n",
       "147043  SoyBeans  2017  WISCONSIN       WOOD          20100.0    863000.0   \n",
       "\n",
       "            YIELD  \n",
       "147039  44.454976  \n",
       "147040  46.342282  \n",
       "147041  41.895425  \n",
       "147042  47.308585  \n",
       "147043  42.935323  "
      ]
     },
     "execution_count": 8,
     "metadata": {},
     "output_type": "execute_result"
    }
   ],
   "source": [
    "#Combining all crops into single dataframe\n",
    "crop_df = pd.concat([pivoted_corn_df,pivoted_barley_df,pivoted_peanuts_df,pivoted_soybean_df]).reset_index().drop(columns='index')\n",
    "\n",
    "#Recalculating Yield, as Sum is not an appropriate aggregation for it.\n",
    "crop_df.loc[:,'YIELD']=crop_df['PRODUCTION']/crop_df['ACRES HARVESTED']\n",
    "#Rearranging columns\n",
    "crop_df = crop_df[['CROP','Year','State','County','ACRES HARVESTED','PRODUCTION','YIELD']]\n",
    "crop_df.tail()"
   ]
  },
  {
   "cell_type": "markdown",
   "metadata": {},
   "source": [
    "Looking for any odd values in these columns."
   ]
  },
  {
   "cell_type": "code",
   "execution_count": 9,
   "metadata": {},
   "outputs": [
    {
     "name": "stdout",
     "output_type": "stream",
     "text": [
      "County: [u'OTHER (COMBINED) COUNTIES' u'ST. JOHNS' u'ST. JOSEPH' u'ST. LOUIS'\n",
      " u'STE. GENEVIEVE' u'ST. JOHN THE BAPTIST']\n",
      "State: []\n",
      "Year: []\n",
      "Negative Values: Empty DataFrame\n",
      "Columns: [CROP, Year, State, County, ACRES HARVESTED, PRODUCTION, YIELD]\n",
      "Index: []\n"
     ]
    }
   ],
   "source": [
    "sp_ch = ['`','~','!','@','#','$','%','^','&','*','(',')','_','-','+','=','{','[','}','}','|','\\\\',':',';','\"',\"'\",'<',',','>','.','?','/']\n",
    "esc_lst =[re.escape(s) for s in sp_ch]\n",
    "pattern = '|'.join(esc_lst)\n",
    "print('County:',crop_df[crop_df['County'].str.contains(pattern, case=False)]['County'].unique())\n",
    "print('State:',crop_df[crop_df['State'].str.contains(pattern, case=False)]['State'].unique())\n",
    "print('Year:',crop_df[(crop_df['Year']<1984) | (crop_df['Year']>2018)]['Year'].unique())\n",
    "print('Negative Values:',crop_df[(crop_df<0).any(1)])"
   ]
  },
  {
   "cell_type": "markdown",
   "metadata": {},
   "source": [
    "There aren't any odd values in any of the columns but one value that can be of concern during modeling is \"OTHER (COMBINED) COUNTIES\". This is because mixture of combined counties changes for each year and crop. The range of values for Area, Production and Yield is so large that it will throw off the model for this County value. Hence we will drop it."
   ]
  },
  {
   "cell_type": "code",
   "execution_count": 104,
   "metadata": {},
   "outputs": [
    {
     "name": "stdout",
     "output_type": "stream",
     "text": [
      "         ACRES HARVESTED            PRODUCTION                    YIELD  \\\n",
      "                     min        max        min          max         min   \n",
      "CROP                                                                      \n",
      "Barley              50.0   683700.0     2500.0   44065900.0    8.888889   \n",
      "Corn               100.0  1668500.0     4000.0  233064100.0   27.428571   \n",
      "Peanuts              5.0   224200.0    11000.0  923250000.0  876.470588   \n",
      "SoyBeans            30.0  1763540.0      900.0   71901500.0    9.000000   \n",
      "\n",
      "                         Year          \n",
      "                  max     min     max  \n",
      "CROP                                   \n",
      "Barley     158.523490  1984.0  2018.0  \n",
      "Corn       247.582017  1984.0  2017.0  \n",
      "Peanuts   4623.287671  1984.0  2017.0  \n",
      "SoyBeans    59.906358  1984.0  2017.0  \n"
     ]
    }
   ],
   "source": [
    "print(crop_df[crop_df['County']=='OTHER (COMBINED) COUNTIES'].groupby('CROP').describe().loc[:,(slice(None),['max','min'])])\n",
    "filtered_crop_df = crop_df[~(crop_df['County']=='OTHER (COMBINED) COUNTIES')]"
   ]
  },
  {
   "cell_type": "markdown",
   "metadata": {},
   "source": [
    "Looks like all of the columns have valid data types that corresponds to the value expected in the column.\n",
    "But looking for the non-nulls in the key columns ACRES HARVESTED,PRODUCTION and YIELD have good population except for few nulls. Which we will deal with soon. For rest of the columns where non-null values that are not even 20%, we will have to ignore that data (drop columns)."
   ]
  },
  {
   "cell_type": "code",
   "execution_count": 99,
   "metadata": {
    "scrolled": true
   },
   "outputs": [
    {
     "name": "stdout",
     "output_type": "stream",
     "text": [
      "<class 'pandas.core.frame.DataFrame'>\n",
      "Int64Index: 144424 entries, 0 to 147043\n",
      "Data columns (total 7 columns):\n",
      "CROP               144424 non-null object\n",
      "Year               144424 non-null int64\n",
      "State              144424 non-null object\n",
      "County             144424 non-null object\n",
      "ACRES HARVESTED    143870 non-null float64\n",
      "PRODUCTION         143870 non-null float64\n",
      "YIELD              143869 non-null float64\n",
      "dtypes: float64(3), int64(1), object(3)\n",
      "memory usage: 8.8+ MB\n",
      "None\n"
     ]
    }
   ],
   "source": [
    "print(filtered_crop_df.info())"
   ]
  },
  {
   "cell_type": "markdown",
   "metadata": {},
   "source": [
    "Looking for duplicates by Crop, Year, State and County but there are none."
   ]
  },
  {
   "cell_type": "code",
   "execution_count": 12,
   "metadata": {},
   "outputs": [
    {
     "data": {
      "text/html": [
       "<div>\n",
       "<style scoped>\n",
       "    .dataframe tbody tr th:only-of-type {\n",
       "        vertical-align: middle;\n",
       "    }\n",
       "\n",
       "    .dataframe tbody tr th {\n",
       "        vertical-align: top;\n",
       "    }\n",
       "\n",
       "    .dataframe thead th {\n",
       "        text-align: right;\n",
       "    }\n",
       "</style>\n",
       "<table border=\"1\" class=\"dataframe\">\n",
       "  <thead>\n",
       "    <tr style=\"text-align: right;\">\n",
       "      <th></th>\n",
       "      <th>CROP</th>\n",
       "      <th>Year</th>\n",
       "      <th>State</th>\n",
       "      <th>County</th>\n",
       "      <th>ACRES HARVESTED</th>\n",
       "      <th>PRODUCTION</th>\n",
       "      <th>YIELD</th>\n",
       "    </tr>\n",
       "  </thead>\n",
       "  <tbody>\n",
       "  </tbody>\n",
       "</table>\n",
       "</div>"
      ],
      "text/plain": [
       "Empty DataFrame\n",
       "Columns: [CROP, Year, State, County, ACRES HARVESTED, PRODUCTION, YIELD]\n",
       "Index: []"
      ]
     },
     "execution_count": 12,
     "metadata": {},
     "output_type": "execute_result"
    }
   ],
   "source": [
    "filtered_crop_df[filtered_crop_df.duplicated(['CROP','Year','State','County'],keep=False)]"
   ]
  },
  {
   "cell_type": "markdown",
   "metadata": {},
   "source": [
    "The distribution of all the columns looks normally distributed. Although Acres Harvested and Production is denser towards the 0, which just mean there are more smaller farms. Hence no further action is required here."
   ]
  },
  {
   "cell_type": "code",
   "execution_count": 13,
   "metadata": {
    "scrolled": true
   },
   "outputs": [
    {
     "data": {
      "image/png": "[encoded data removed]",
      "text/plain": [
       "<Figure size 1080x1800 with 3 Axes>"
      ]
     },
     "metadata": {
      "needs_background": "light"
     },
     "output_type": "display_data"
    }
   ],
   "source": [
    "filtered_crop_df[['ACRES HARVESTED','PRODUCTION','YIELD']].hist(figsize=(15,25) ,layout=(3,1),bins=100)\n",
    "plt.show()"
   ]
  },
  {
   "cell_type": "markdown",
   "metadata": {},
   "source": [
    "****************"
   ]
  },
  {
   "cell_type": "markdown",
   "metadata": {},
   "source": [
    "## Data Enrichment\n",
    "### Unemployment Rate\n",
    "This dataset is from Bureau of Labor Statistics. The downloaded excel workbook consisted of state wise unemployment for every month since Jan 1976 to Nov 2018. The set was split by state with each state in a separate sheet, hence needed to be combined into one large set. And since the crop statistics is on yearly basis, this set needs to be aggregated to yearly numbers.\n",
    "\n",
    "Once the set is combined and aggregated we write it into another excel file and later manually added as a seperate sheet to rest of the data workbook."
   ]
  },
  {
   "cell_type": "code",
   "execution_count": 14,
   "metadata": {},
   "outputs": [
    {
     "name": "stdout",
     "output_type": "stream",
     "text": [
      "      State  Year  Yearly Unemployment Rate\n",
      "11  ALABAMA  1976                  6.766667\n",
      "23  ALABAMA  1977                  7.316667\n",
      "35  ALABAMA  1978                  6.316667\n",
      "47  ALABAMA  1979                  7.175000\n",
      "59  ALABAMA  1980                  8.883333\n"
     ]
    }
   ],
   "source": [
    "import pandas as pd\n",
    "\n",
    "Unemployment_xl = 'C:/Users/patel/OneDrive/Documents/DataScience/Springboard/Projects/Capstone 1/Data/UnemploymentRate_Raw_ByState_Yearly.xlsx'\n",
    "xl_sheets = pd.ExcelFile(Unemployment_xl).sheet_names\n",
    "unemployment_df = pd.DataFrame({})\n",
    "\n",
    "def read_unemployment_sheet(sheet):\n",
    "    #Reading one sheet from excel, while only selecting first 5 columns as rest of the columns are empty. \n",
    "    df = pd.read_excel(Unemployment_xl, sheet_name=sheet).iloc[:,:5]\n",
    "    \n",
    "    #Assigning state name, that's located at 7th row of 2nd column, to seperate column.\n",
    "    state_name = df.iloc[6,1]\n",
    "    #print(state_name)\n",
    "    df['Unnamed: 4']=state_name\n",
    "    \n",
    "    #Filtering out all rows above the actual data.\n",
    "    df = df.iloc[11:,:]\n",
    "    \n",
    "    #Renaming columns\n",
    "    df.columns = ['Year','Period','Month','Unemployment Rate','State']\n",
    "    \n",
    "    #Type casting to make sure 'Unemployment Rate' is numeric before taking yearly averages\n",
    "    df['Unemployment Rate']=pd.to_numeric(df['Unemployment Rate'])\n",
    "    \n",
    "    #Takes mean 'Unemployment Rate' across year.\n",
    "    df['Yearly Unemployment Rate'] = df.groupby('Year')['Unemployment Rate'].transform('mean')\n",
    "    \n",
    "    #returns selected columns and dropping duplicates.\n",
    "    return df[['State','Year','Yearly Unemployment Rate']].drop_duplicates()\n",
    "    \n",
    "unemployment_df = unemployment_df.append(map(read_unemployment_sheet,xl_sheets))\n",
    "unemployment_df['State']=unemployment_df['State'].str.upper()\n",
    "unemployment_df['Year']=unemployment_df['Year'].astype('int64')\n",
    "print(unemployment_df.head())"
   ]
  },
  {
   "cell_type": "code",
   "execution_count": 15,
   "metadata": {},
   "outputs": [],
   "source": [
    "writer = pd.ExcelWriter('C:/Users/patel/OneDrive/Documents/DataScience/Springboard/Projects/Capstone 1/Data/UnemploymentRate_Pivoted_ByState_Yearly.xlsx')\n",
    "unemployment_df.to_excel(writer,'US UnemploymentRate', index=False)\n",
    "writer.save()"
   ]
  },
  {
   "cell_type": "markdown",
   "metadata": {},
   "source": [
    "Combining Unemployment data with yield."
   ]
  },
  {
   "cell_type": "code",
   "execution_count": 115,
   "metadata": {},
   "outputs": [
    {
     "data": {
      "text/html": [
       "<div>\n",
       "<style scoped>\n",
       "    .dataframe tbody tr th:only-of-type {\n",
       "        vertical-align: middle;\n",
       "    }\n",
       "\n",
       "    .dataframe tbody tr th {\n",
       "        vertical-align: top;\n",
       "    }\n",
       "\n",
       "    .dataframe thead th {\n",
       "        text-align: right;\n",
       "    }\n",
       "</style>\n",
       "<table border=\"1\" class=\"dataframe\">\n",
       "  <thead>\n",
       "    <tr style=\"text-align: right;\">\n",
       "      <th></th>\n",
       "      <th>CROP</th>\n",
       "      <th>Year</th>\n",
       "      <th>State</th>\n",
       "      <th>County</th>\n",
       "      <th>ACRES HARVESTED</th>\n",
       "      <th>PRODUCTION</th>\n",
       "      <th>YIELD</th>\n",
       "      <th>Yearly Unemployment Rate</th>\n",
       "    </tr>\n",
       "  </thead>\n",
       "  <tbody>\n",
       "    <tr>\n",
       "      <th>0</th>\n",
       "      <td>Corn</td>\n",
       "      <td>1984</td>\n",
       "      <td>ALABAMA</td>\n",
       "      <td>AUTAUGA</td>\n",
       "      <td>2500.0</td>\n",
       "      <td>103000.0</td>\n",
       "      <td>41.200000</td>\n",
       "      <td>11.0</td>\n",
       "    </tr>\n",
       "    <tr>\n",
       "      <th>1</th>\n",
       "      <td>Corn</td>\n",
       "      <td>1984</td>\n",
       "      <td>ALABAMA</td>\n",
       "      <td>BALDWIN</td>\n",
       "      <td>40700.0</td>\n",
       "      <td>3196000.0</td>\n",
       "      <td>78.525799</td>\n",
       "      <td>11.0</td>\n",
       "    </tr>\n",
       "    <tr>\n",
       "      <th>2</th>\n",
       "      <td>Corn</td>\n",
       "      <td>1984</td>\n",
       "      <td>ALABAMA</td>\n",
       "      <td>BARBOUR</td>\n",
       "      <td>7700.0</td>\n",
       "      <td>434000.0</td>\n",
       "      <td>56.363636</td>\n",
       "      <td>11.0</td>\n",
       "    </tr>\n",
       "    <tr>\n",
       "      <th>3</th>\n",
       "      <td>Corn</td>\n",
       "      <td>1984</td>\n",
       "      <td>ALABAMA</td>\n",
       "      <td>BLOUNT</td>\n",
       "      <td>2200.0</td>\n",
       "      <td>124000.0</td>\n",
       "      <td>56.363636</td>\n",
       "      <td>11.0</td>\n",
       "    </tr>\n",
       "    <tr>\n",
       "      <th>4</th>\n",
       "      <td>Corn</td>\n",
       "      <td>1984</td>\n",
       "      <td>ALABAMA</td>\n",
       "      <td>BULLOCK</td>\n",
       "      <td>2000.0</td>\n",
       "      <td>108000.0</td>\n",
       "      <td>54.000000</td>\n",
       "      <td>11.0</td>\n",
       "    </tr>\n",
       "  </tbody>\n",
       "</table>\n",
       "</div>"
      ],
      "text/plain": [
       "   CROP  Year    State   County  ACRES HARVESTED  PRODUCTION      YIELD  \\\n",
       "0  Corn  1984  ALABAMA  AUTAUGA           2500.0    103000.0  41.200000   \n",
       "1  Corn  1984  ALABAMA  BALDWIN          40700.0   3196000.0  78.525799   \n",
       "2  Corn  1984  ALABAMA  BARBOUR           7700.0    434000.0  56.363636   \n",
       "3  Corn  1984  ALABAMA   BLOUNT           2200.0    124000.0  56.363636   \n",
       "4  Corn  1984  ALABAMA  BULLOCK           2000.0    108000.0  54.000000   \n",
       "\n",
       "   Yearly Unemployment Rate  \n",
       "0                      11.0  \n",
       "1                      11.0  \n",
       "2                      11.0  \n",
       "3                      11.0  \n",
       "4                      11.0  "
      ]
     },
     "execution_count": 115,
     "metadata": {},
     "output_type": "execute_result"
    }
   ],
   "source": [
    "enriched_df_unemp = pd.merge(filtered_crop_df,unemployment_df,how='left')\n",
    "enriched_df_unemp.head()"
   ]
  },
  {
   "cell_type": "markdown",
   "metadata": {},
   "source": [
    "### Weather Data"
   ]
  },
  {
   "cell_type": "code",
   "execution_count": 142,
   "metadata": {},
   "outputs": [],
   "source": [
    "#importing weather data\n",
    "weather_file = 'C:/Users/patel/OneDrive/Documents/DataScience/Springboard/Projects/Capstone 1/Data/Weather_Historical_US_County_Yearly.xlsx'\n",
    "weather_xl_sheets = pd.ExcelFile(weather_file).sheet_names\n",
    "raw_weather_df = pd.read_excel(weather_file)"
   ]
  },
  {
   "cell_type": "code",
   "execution_count": 164,
   "metadata": {},
   "outputs": [],
   "source": [
    "weather_df = raw_weather_df.copy()\n",
    "enriched_df_CST=enriched_df_unemp.copy()\n",
    "\n",
    "# matching cases to base data\n",
    "weather_df['State'] = weather_df['State'].str.upper()\n",
    "weather_df['County'] = weather_df['County'].str.upper()\n",
    "\n",
    "#Cleaning up\n",
    "# matching county columns on both side\n",
    "weather_df['County_ST']=weather_df['County'].str.replace(r'\\sPARISH','',regex=True).replace(r'\\.','',regex=True).replace(r\"\\'\",\"\",regex=True).replace(r'^SAINT','ST',regex=True).replace(r'\\s','',regex=True)\n",
    "enriched_df_CST['County_ST']=enriched_df_CST['County'].str.replace(r'\\sPARISH','',regex=True).replace(r'\\.','',regex=True).replace(r\"\\'\",\"\",regex=True).replace(r'^SAINT','ST',regex=True).replace(r'\\s','',regex=True)\n",
    "\n",
    "#merging on matched columns\n",
    "enriched_df = pd.merge(enriched_df_CST, weather_df, how='left', left_on=['Year','State','County_ST'], right_on=['Year','State','County_ST'])\n",
    "\n",
    "enriched_df = enriched_df.drop(columns=['County_y','County_ST'])\n",
    "enriched_df.rename(columns={'County_x':'County'},inplace=True)"
   ]
  },
  {
   "cell_type": "markdown",
   "metadata": {},
   "source": [
    "#### Saving data to file."
   ]
  },
  {
   "cell_type": "code",
   "execution_count": 165,
   "metadata": {},
   "outputs": [],
   "source": [
    "corp_writer = pd.ExcelWriter('C:/Users/patel/OneDrive/Documents/DataScience/Springboard/Projects/Capstone 1/Data/Crop_Pivoted.xlsx')\n",
    "enriched_df.to_excel(corp_writer,'Crop Data', index=False)\n",
    "corp_writer.save()"
   ]
  },
  {
   "cell_type": "code",
   "execution_count": null,
   "metadata": {},
   "outputs": [],
   "source": []
  }
 ],
 "metadata": {
  "anaconda-cloud": {},
  "kernelspec": {
   "display_name": "Python 2",
   "language": "python",
   "name": "python2"
  },
  "language_info": {
   "codemirror_mode": {
    "name": "ipython",
    "version": 2
   },
   "file_extension": ".py",
   "mimetype": "text/x-python",
   "name": "python",
   "nbconvert_exporter": "python",
   "pygments_lexer": "ipython2",
   "version": "2.7.15"
  }
 },
 "nbformat": 4,
 "nbformat_minor": 1
}
